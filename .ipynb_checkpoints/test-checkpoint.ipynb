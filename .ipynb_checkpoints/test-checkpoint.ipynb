{
 "cells": [
  {
   "cell_type": "code",
   "execution_count": 27,
   "id": "0db11b54",
   "metadata": {},
   "outputs": [],
   "source": [
    "import pandas as pd\n",
    "import numpy as np\n",
    "import datetime\n",
    "import time\n",
    "import seaborn as sns\n",
    "import data.collected_data.methods.get_listing_median_price as gt\n",
    "import matplotlib.pyplot as plt\n",
    "import re\n",
    "sns.set(rc={'figure.figsize': (15, 10)},\n",
    "        style=\"whitegrid\", font_scale= 0.8)\n",
    "\n",
    "path_to_values = '/Users/eaxes/DA Projects/CMC/data/collected_data/coins_date_and_values'\n",
    "\n",
    "import data.collected_data.economics.schedule as sch\n"
   ]
  },
  {
   "cell_type": "code",
   "execution_count": 28,
   "id": "872fdea3",
   "metadata": {},
   "outputs": [],
   "source": [
    "import pandas as pd\n",
    "import numpy as np\n",
    "\n",
    "base_df_path = \"/Users/eaxes/DA Projects/CMC/data/collected_data/mined/price_token_test.csv\"\n",
    "values_df_path = '/Users/eaxes/DA Projects/CMC/data/collected_data/coins_date_and_values'\n",
    "\n",
    "slug = \"gamefi\"\n",
    "df = pd.read_csv(base_df_path, index_col=0)\n",
    "token_common_df = df.query(\"slug == @slug\")"
   ]
  },
  {
   "cell_type": "code",
   "execution_count": 16,
   "id": "e8fb3b0a",
   "metadata": {},
   "outputs": [
    {
     "data": {
      "text/html": [
       "<div>\n",
       "<style scoped>\n",
       "    .dataframe tbody tr th:only-of-type {\n",
       "        vertical-align: middle;\n",
       "    }\n",
       "\n",
       "    .dataframe tbody tr th {\n",
       "        vertical-align: top;\n",
       "    }\n",
       "\n",
       "    .dataframe thead th {\n",
       "        text-align: right;\n",
       "    }\n",
       "</style>\n",
       "<table border=\"1\" class=\"dataframe\">\n",
       "  <thead>\n",
       "    <tr style=\"text-align: right;\">\n",
       "      <th></th>\n",
       "      <th>name</th>\n",
       "      <th>ticker</th>\n",
       "      <th>platform_raise</th>\n",
       "      <th>coingecko_id</th>\n",
       "      <th>coingecko_numerical_id</th>\n",
       "      <th>sho_price</th>\n",
       "      <th>personal_allocation</th>\n",
       "      <th>slug</th>\n",
       "      <th>median_listing_sell_price</th>\n",
       "      <th>token_personal_cap</th>\n",
       "      <th>ath_median_listing</th>\n",
       "      <th>for_charts</th>\n",
       "    </tr>\n",
       "  </thead>\n",
       "  <tbody>\n",
       "    <tr>\n",
       "      <th>42</th>\n",
       "      <td>GameFi</td>\n",
       "      <td>GAFI</td>\n",
       "      <td>95000</td>\n",
       "      <td>gamefi</td>\n",
       "      <td>18292</td>\n",
       "      <td>1.0</td>\n",
       "      <td>500.0</td>\n",
       "      <td>gamefi</td>\n",
       "      <td>3.860847855497112e-17</td>\n",
       "      <td>500.0</td>\n",
       "      <td>3.860847855497112e-17</td>\n",
       "      <td>True</td>\n",
       "    </tr>\n",
       "  </tbody>\n",
       "</table>\n",
       "</div>"
      ],
      "text/plain": [
       "      name ticker  platform_raise coingecko_id coingecko_numerical_id  \\\n",
       "42  GameFi   GAFI           95000       gamefi                  18292   \n",
       "\n",
       "    sho_price personal_allocation    slug median_listing_sell_price  \\\n",
       "42        1.0               500.0  gamefi     3.860847855497112e-17   \n",
       "\n",
       "   token_personal_cap     ath_median_listing  for_charts  \n",
       "42              500.0  3.860847855497112e-17        True  "
      ]
     },
     "execution_count": 16,
     "metadata": {},
     "output_type": "execute_result"
    }
   ],
   "source": [
    "token_common_df"
   ]
  },
  {
   "cell_type": "code",
   "execution_count": 17,
   "id": "b2bbd48f",
   "metadata": {},
   "outputs": [
    {
     "data": {
      "text/plain": [
       "18292"
      ]
     },
     "execution_count": 17,
     "metadata": {},
     "output_type": "execute_result"
    }
   ],
   "source": [
    "coingecko_numerical_id = int(token_common_df.coingecko_numerical_id.values[0])\n",
    "coingecko_numerical_id"
   ]
  },
  {
   "cell_type": "code",
   "execution_count": 18,
   "id": "44eea566",
   "metadata": {},
   "outputs": [
    {
     "data": {
      "text/html": [
       "<div>\n",
       "<style scoped>\n",
       "    .dataframe tbody tr th:only-of-type {\n",
       "        vertical-align: middle;\n",
       "    }\n",
       "\n",
       "    .dataframe tbody tr th {\n",
       "        vertical-align: top;\n",
       "    }\n",
       "\n",
       "    .dataframe thead th {\n",
       "        text-align: right;\n",
       "    }\n",
       "</style>\n",
       "<table border=\"1\" class=\"dataframe\">\n",
       "  <thead>\n",
       "    <tr style=\"text-align: right;\">\n",
       "      <th></th>\n",
       "      <th>coingecko_numerical_id</th>\n",
       "      <th>date</th>\n",
       "      <th>value</th>\n",
       "    </tr>\n",
       "  </thead>\n",
       "  <tbody>\n",
       "    <tr>\n",
       "      <th>12567</th>\n",
       "      <td>18292</td>\n",
       "      <td>2021-09-11 00:00</td>\n",
       "      <td>3.860848e-17</td>\n",
       "    </tr>\n",
       "    <tr>\n",
       "      <th>12568</th>\n",
       "      <td>18292</td>\n",
       "      <td>2021-09-12 00:00</td>\n",
       "      <td>3.860848e-17</td>\n",
       "    </tr>\n",
       "    <tr>\n",
       "      <th>12569</th>\n",
       "      <td>18292</td>\n",
       "      <td>2021-09-13 00:00</td>\n",
       "      <td>4.112763e-17</td>\n",
       "    </tr>\n",
       "    <tr>\n",
       "      <th>12570</th>\n",
       "      <td>18292</td>\n",
       "      <td>2021-09-14 00:00</td>\n",
       "      <td>3.669663e-17</td>\n",
       "    </tr>\n",
       "    <tr>\n",
       "      <th>12571</th>\n",
       "      <td>18292</td>\n",
       "      <td>2021-09-15 00:00</td>\n",
       "      <td>4.201025e+01</td>\n",
       "    </tr>\n",
       "    <tr>\n",
       "      <th>...</th>\n",
       "      <td>...</td>\n",
       "      <td>...</td>\n",
       "      <td>...</td>\n",
       "    </tr>\n",
       "    <tr>\n",
       "      <th>12830</th>\n",
       "      <td>18292</td>\n",
       "      <td>2022-06-01 00:00</td>\n",
       "      <td>1.458048e+01</td>\n",
       "    </tr>\n",
       "    <tr>\n",
       "      <th>12831</th>\n",
       "      <td>18292</td>\n",
       "      <td>2022-06-02 00:00</td>\n",
       "      <td>1.511704e+01</td>\n",
       "    </tr>\n",
       "    <tr>\n",
       "      <th>12832</th>\n",
       "      <td>18292</td>\n",
       "      <td>2022-06-03 00:00</td>\n",
       "      <td>1.606969e+01</td>\n",
       "    </tr>\n",
       "    <tr>\n",
       "      <th>12833</th>\n",
       "      <td>18292</td>\n",
       "      <td>2022-06-04 00:00</td>\n",
       "      <td>1.789516e+01</td>\n",
       "    </tr>\n",
       "    <tr>\n",
       "      <th>12834</th>\n",
       "      <td>18292</td>\n",
       "      <td>2022-06-04 12:08</td>\n",
       "      <td>1.645628e+01</td>\n",
       "    </tr>\n",
       "  </tbody>\n",
       "</table>\n",
       "<p>268 rows × 3 columns</p>\n",
       "</div>"
      ],
      "text/plain": [
       "       coingecko_numerical_id              date         value\n",
       "12567                   18292  2021-09-11 00:00  3.860848e-17\n",
       "12568                   18292  2021-09-12 00:00  3.860848e-17\n",
       "12569                   18292  2021-09-13 00:00  4.112763e-17\n",
       "12570                   18292  2021-09-14 00:00  3.669663e-17\n",
       "12571                   18292  2021-09-15 00:00  4.201025e+01\n",
       "...                       ...               ...           ...\n",
       "12830                   18292  2022-06-01 00:00  1.458048e+01\n",
       "12831                   18292  2022-06-02 00:00  1.511704e+01\n",
       "12832                   18292  2022-06-03 00:00  1.606969e+01\n",
       "12833                   18292  2022-06-04 00:00  1.789516e+01\n",
       "12834                   18292  2022-06-04 12:08  1.645628e+01\n",
       "\n",
       "[268 rows x 3 columns]"
      ]
     },
     "execution_count": 18,
     "metadata": {},
     "output_type": "execute_result"
    }
   ],
   "source": [
    "token_charts = pd.read_csv(values_df_path, index_col=0).query('coingecko_numerical_id == @coingecko_numerical_id')\n",
    "token_charts"
   ]
  },
  {
   "cell_type": "code",
   "execution_count": 19,
   "id": "8acffba6",
   "metadata": {},
   "outputs": [],
   "source": [
    "def get_tge_date(path_to_values, coingecko_id):\n",
    "    print('Tge date processing...')\n",
    "    try:\n",
    "        id = int(coingecko_id)\n",
    "        dateparse = lambda x: datetime.datetime.strptime(x, '%Y-%m-%d %H:%M')\n",
    "        df_values = pd.read_csv(path_to_values, index_col=0,\n",
    "                                parse_dates=['date'],\n",
    "                                date_parser=dateparse)\n",
    "        df_values_for_coin = df_values.query('coingecko_numerical_id == @id')\n",
    "        if df_values_for_coin.empty:\n",
    "            return 'no-date'\n",
    "        else:\n",
    "            return df_values_for_coin.date.min()\n",
    "    except BaseException:\n",
    "        return 'date'"
   ]
  },
  {
   "cell_type": "code",
   "execution_count": 20,
   "id": "c281b864",
   "metadata": {},
   "outputs": [
    {
     "name": "stdout",
     "output_type": "stream",
     "text": [
      "Tge date processing...\n"
     ]
    },
    {
     "data": {
      "text/plain": [
       "Timestamp('2021-09-11 00:00:00')"
      ]
     },
     "execution_count": 20,
     "metadata": {},
     "output_type": "execute_result"
    }
   ],
   "source": [
    "date = get_tge_date(path_to_values, 18292)\n",
    "date"
   ]
  },
  {
   "cell_type": "code",
   "execution_count": 21,
   "id": "d00fa0c2",
   "metadata": {},
   "outputs": [],
   "source": [
    "date = date + pd.Timedelta(1, unit = 'd')\n"
   ]
  },
  {
   "cell_type": "code",
   "execution_count": 22,
   "id": "be20b533",
   "metadata": {},
   "outputs": [
    {
     "ename": "NameError",
     "evalue": "name 'start_date' is not defined",
     "output_type": "error",
     "traceback": [
      "\u001b[0;31m---------------------------------------------------------------------------\u001b[0m",
      "\u001b[0;31mNameError\u001b[0m                                 Traceback (most recent call last)",
      "\u001b[0;32m/var/folders/kr/9pvbgx552f34xt_90sw27f2h0000gn/T/ipykernel_19636/584406655.py\u001b[0m in \u001b[0;36m<module>\u001b[0;34m\u001b[0m\n\u001b[0;32m----> 1\u001b[0;31m \u001b[0mnew_date\u001b[0m \u001b[0;34m=\u001b[0m \u001b[0mstart_date\u001b[0m \u001b[0;34m-\u001b[0m \u001b[0mpd\u001b[0m\u001b[0;34m.\u001b[0m\u001b[0mTimedelta\u001b[0m\u001b[0;34m(\u001b[0m\u001b[0mdayDistance\u001b[0m\u001b[0;34m,\u001b[0m \u001b[0munit\u001b[0m\u001b[0;34m=\u001b[0m\u001b[0;34m\"d\"\u001b[0m\u001b[0;34m)\u001b[0m\u001b[0;34m\u001b[0m\u001b[0;34m\u001b[0m\u001b[0m\n\u001b[0m",
      "\u001b[0;31mNameError\u001b[0m: name 'start_date' is not defined"
     ]
    }
   ],
   "source": [
    "\n",
    "\n",
    "new_date = start_date - pd.Timedelta(dayDistance, unit=\"d\")"
   ]
  },
  {
   "cell_type": "code",
   "execution_count": 23,
   "id": "cc1b1cff",
   "metadata": {},
   "outputs": [],
   "source": [
    "schedule_table = sch.schedule\n",
    "schedule = \"50% at TGE, 60 days cliff then 5% monthly\""
   ]
  },
  {
   "cell_type": "code",
   "execution_count": 24,
   "id": "73459224",
   "metadata": {},
   "outputs": [
    {
     "data": {
      "text/plain": [
       "500.0"
      ]
     },
     "execution_count": 24,
     "metadata": {},
     "output_type": "execute_result"
    }
   ],
   "source": [
    "personal_cap = float(token_common_df.token_personal_cap.values[0])\n",
    "personal_cap"
   ]
  },
  {
   "cell_type": "code",
   "execution_count": 25,
   "id": "c0ebcf89",
   "metadata": {},
   "outputs": [],
   "source": [
    "table = schedule_table[schedule]"
   ]
  },
  {
   "cell_type": "code",
   "execution_count": 26,
   "id": "15e317b3",
   "metadata": {},
   "outputs": [
    {
     "name": "stdout",
     "output_type": "stream",
     "text": [
      "Tge date processing...\n"
     ]
    },
    {
     "ename": "ValueError",
     "evalue": "cannot construct a Timedelta without a value/unit or descriptive keywords (days,seconds....)",
     "output_type": "error",
     "traceback": [
      "\u001b[0;31m---------------------------------------------------------------------------\u001b[0m",
      "\u001b[0;31mValueError\u001b[0m                                Traceback (most recent call last)",
      "\u001b[0;32m/var/folders/kr/9pvbgx552f34xt_90sw27f2h0000gn/T/ipykernel_19636/3012144040.py\u001b[0m in \u001b[0;36m<module>\u001b[0;34m\u001b[0m\n\u001b[1;32m      6\u001b[0m     \u001b[0;32melse\u001b[0m\u001b[0;34m:\u001b[0m\u001b[0;34m\u001b[0m\u001b[0;34m\u001b[0m\u001b[0m\n\u001b[1;32m      7\u001b[0m         \u001b[0mprevious_date\u001b[0m \u001b[0;34m=\u001b[0m \u001b[0mresult\u001b[0m\u001b[0;34m[\u001b[0m\u001b[0mi\u001b[0m \u001b[0;34m-\u001b[0m \u001b[0;36m1\u001b[0m\u001b[0;34m]\u001b[0m\u001b[0;34m[\u001b[0m\u001b[0;36m0\u001b[0m\u001b[0;34m]\u001b[0m\u001b[0;34m\u001b[0m\u001b[0;34m\u001b[0m\u001b[0m\n\u001b[0;32m----> 8\u001b[0;31m         \u001b[0mcurrent_date\u001b[0m \u001b[0;34m=\u001b[0m \u001b[0mprevious_date\u001b[0m \u001b[0;34m+\u001b[0m \u001b[0mpd\u001b[0m\u001b[0;34m.\u001b[0m\u001b[0mTimedelta\u001b[0m\u001b[0;34m(\u001b[0m\u001b[0;34m)\u001b[0m\u001b[0;34m\u001b[0m\u001b[0;34m\u001b[0m\u001b[0m\n\u001b[0m\u001b[1;32m      9\u001b[0m         \u001b[0mresult\u001b[0m\u001b[0;34m.\u001b[0m\u001b[0mappend\u001b[0m\u001b[0;34m(\u001b[0m\u001b[0;34m)\u001b[0m\u001b[0;34m\u001b[0m\u001b[0;34m\u001b[0m\u001b[0m\n\u001b[1;32m     10\u001b[0m \u001b[0mresult\u001b[0m\u001b[0;34m\u001b[0m\u001b[0;34m\u001b[0m\u001b[0m\n",
      "\u001b[0;32m~/opt/anaconda3/lib/python3.9/site-packages/pandas/_libs/tslibs/timedeltas.pyx\u001b[0m in \u001b[0;36mpandas._libs.tslibs.timedeltas.Timedelta.__new__\u001b[0;34m()\u001b[0m\n",
      "\u001b[0;31mValueError\u001b[0m: cannot construct a Timedelta without a value/unit or descriptive keywords (days,seconds....)"
     ]
    }
   ],
   "source": [
    "result = []\n",
    "tge_date = get_tge_date(path_to_values, 18292)\n",
    "for i in range(len(table)):\n",
    "    if table[i][0] == \"0\":\n",
    "        result.append([tge_date, personal_cap * float(table[i][1])])\n",
    "    else:\n",
    "        previous_date = result[i - 1][0]\n",
    "        current_date = previous_date + pd.Timedelta()\n",
    "        result.append()\n",
    "result"
   ]
  },
  {
   "cell_type": "code",
   "execution_count": 29,
   "id": "df014cdc",
   "metadata": {},
   "outputs": [],
   "source": [
    "def str_schedule_unit_to_arr(schedule):\n",
    "    schedule = \"1a\"\n",
    "    result = schedule.split(r\"a$\")\n",
    "    print(result)"
   ]
  },
  {
   "cell_type": "code",
   "execution_count": null,
   "id": "e3e8af12",
   "metadata": {},
   "outputs": [],
   "source": []
  },
  {
   "cell_type": "code",
   "execution_count": null,
   "id": "ef658811",
   "metadata": {},
   "outputs": [],
   "source": []
  }
 ],
 "metadata": {
  "kernelspec": {
   "display_name": "Python 3 (ipykernel)",
   "language": "python",
   "name": "python3"
  },
  "language_info": {
   "codemirror_mode": {
    "name": "ipython",
    "version": 3
   },
   "file_extension": ".py",
   "mimetype": "text/x-python",
   "name": "python",
   "nbconvert_exporter": "python",
   "pygments_lexer": "ipython3",
   "version": "3.9.7"
  },
  "varInspector": {
   "cols": {
    "lenName": 16,
    "lenType": 16,
    "lenVar": 40
   },
   "kernels_config": {
    "python": {
     "delete_cmd_postfix": "",
     "delete_cmd_prefix": "del ",
     "library": "var_list.py",
     "varRefreshCmd": "print(var_dic_list())"
    },
    "r": {
     "delete_cmd_postfix": ") ",
     "delete_cmd_prefix": "rm(",
     "library": "var_list.r",
     "varRefreshCmd": "cat(var_dic_list()) "
    }
   },
   "types_to_exclude": [
    "module",
    "function",
    "builtin_function_or_method",
    "instance",
    "_Feature"
   ],
   "window_display": false
  }
 },
 "nbformat": 4,
 "nbformat_minor": 5
}
