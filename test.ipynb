{
 "cells": [
  {
   "cell_type": "code",
   "execution_count": 48,
   "id": "0db11b54",
   "metadata": {},
   "outputs": [],
   "source": [
    "import pandas as pd\n",
    "import numpy as np\n",
    "import datetime\n",
    "import time\n",
    "import seaborn as sns\n",
    "import data.collected_data.methods.get_listing_median_price as gt\n",
    "import matplotlib.pyplot as plt\n",
    "sns.set(rc={'figure.figsize': (15, 10)},\n",
    "        style=\"whitegrid\", font_scale= 0.8)\n"
   ]
  },
  {
   "cell_type": "code",
   "execution_count": 49,
   "id": "9d0b2560",
   "metadata": {},
   "outputs": [
    {
     "data": {
      "text/html": [
       "<div>\n",
       "<style scoped>\n",
       "    .dataframe tbody tr th:only-of-type {\n",
       "        vertical-align: middle;\n",
       "    }\n",
       "\n",
       "    .dataframe tbody tr th {\n",
       "        vertical-align: top;\n",
       "    }\n",
       "\n",
       "    .dataframe thead th {\n",
       "        text-align: right;\n",
       "    }\n",
       "</style>\n",
       "<table border=\"1\" class=\"dataframe\">\n",
       "  <thead>\n",
       "    <tr style=\"text-align: right;\">\n",
       "      <th></th>\n",
       "      <th>name</th>\n",
       "      <th>ticker</th>\n",
       "      <th>platform_raise</th>\n",
       "      <th>coingecko_id</th>\n",
       "      <th>coingecko_numerical_id</th>\n",
       "      <th>sho_price</th>\n",
       "      <th>median_listing_sell_price</th>\n",
       "      <th>ath_median_listing</th>\n",
       "      <th>for_charts</th>\n",
       "    </tr>\n",
       "  </thead>\n",
       "  <tbody>\n",
       "    <tr>\n",
       "      <th>0</th>\n",
       "      <td>Gamium</td>\n",
       "      <td>GMM</td>\n",
       "      <td>200000</td>\n",
       "      <td>gamium</td>\n",
       "      <td>22749</td>\n",
       "      <td>0.0003</td>\n",
       "      <td>0.0020978153826027</td>\n",
       "      <td>6.9927179420089995</td>\n",
       "      <td>True</td>\n",
       "    </tr>\n",
       "    <tr>\n",
       "      <th>2</th>\n",
       "      <td>AdaSwap</td>\n",
       "      <td>ASW</td>\n",
       "      <td>195000</td>\n",
       "      <td>adaswap</td>\n",
       "      <td>24453</td>\n",
       "      <td>0.005</td>\n",
       "      <td>0.0355824699101078</td>\n",
       "      <td>7.11649398202156</td>\n",
       "      <td>True</td>\n",
       "    </tr>\n",
       "    <tr>\n",
       "      <th>3</th>\n",
       "      <td>Step.app</td>\n",
       "      <td>FITFI</td>\n",
       "      <td>2750000</td>\n",
       "      <td>step-app-fitfi</td>\n",
       "      <td>25015</td>\n",
       "      <td>0.0049</td>\n",
       "      <td>0.1878854602035458</td>\n",
       "      <td>38.34397147011139</td>\n",
       "      <td>True</td>\n",
       "    </tr>\n",
       "    <tr>\n",
       "      <th>4</th>\n",
       "      <td>DragonSB</td>\n",
       "      <td>SB</td>\n",
       "      <td>195000</td>\n",
       "      <td>dragonsb</td>\n",
       "      <td>23738</td>\n",
       "      <td>0.15</td>\n",
       "      <td>0.3267951753518027</td>\n",
       "      <td>2.1786345023453513</td>\n",
       "      <td>True</td>\n",
       "    </tr>\n",
       "    <tr>\n",
       "      <th>5</th>\n",
       "      <td>DeFiato</td>\n",
       "      <td>DFIAT</td>\n",
       "      <td>600000</td>\n",
       "      <td>defiato</td>\n",
       "      <td>13386</td>\n",
       "      <td>0.08</td>\n",
       "      <td>0.1197949601008165</td>\n",
       "      <td>1.4974370012602063</td>\n",
       "      <td>True</td>\n",
       "    </tr>\n",
       "    <tr>\n",
       "      <th>...</th>\n",
       "      <td>...</td>\n",
       "      <td>...</td>\n",
       "      <td>...</td>\n",
       "      <td>...</td>\n",
       "      <td>...</td>\n",
       "      <td>...</td>\n",
       "      <td>...</td>\n",
       "      <td>...</td>\n",
       "      <td>...</td>\n",
       "    </tr>\n",
       "    <tr>\n",
       "      <th>92</th>\n",
       "      <td>DAO Maker</td>\n",
       "      <td>DAO</td>\n",
       "      <td>3900000</td>\n",
       "      <td>dao-maker</td>\n",
       "      <td>13915</td>\n",
       "      <td>0.1</td>\n",
       "      <td>2.873655040212752</td>\n",
       "      <td>28.73655040212752</td>\n",
       "      <td>True</td>\n",
       "    </tr>\n",
       "    <tr>\n",
       "      <th>93</th>\n",
       "      <td>AnRKey X™</td>\n",
       "      <td>ANRX</td>\n",
       "      <td>125000</td>\n",
       "      <td>anrkey-x</td>\n",
       "      <td>13415</td>\n",
       "      <td>0.025</td>\n",
       "      <td>0.0807808414286971</td>\n",
       "      <td>3.2312336571478837</td>\n",
       "      <td>True</td>\n",
       "    </tr>\n",
       "    <tr>\n",
       "      <th>94</th>\n",
       "      <td>PlotX</td>\n",
       "      <td>No ticket found through transform function</td>\n",
       "      <td>250000</td>\n",
       "      <td>plotx</td>\n",
       "      <td>12795</td>\n",
       "      <td>0.05</td>\n",
       "      <td>0.1350403374578565</td>\n",
       "      <td>2.70080674915713</td>\n",
       "      <td>True</td>\n",
       "    </tr>\n",
       "    <tr>\n",
       "      <th>95</th>\n",
       "      <td>DeFiner</td>\n",
       "      <td>No ticket found through transform function</td>\n",
       "      <td>96000</td>\n",
       "      <td>definer</td>\n",
       "      <td>12780</td>\n",
       "      <td>0.6</td>\n",
       "      <td>1.1935061783750534</td>\n",
       "      <td>1.9891769639584223</td>\n",
       "      <td>True</td>\n",
       "    </tr>\n",
       "    <tr>\n",
       "      <th>97</th>\n",
       "      <td>Orion Protocol</td>\n",
       "      <td>No ticket found through transform function</td>\n",
       "      <td>3750000</td>\n",
       "      <td>orion-protocol</td>\n",
       "      <td>11841</td>\n",
       "      <td>0.1</td>\n",
       "      <td>0.7159860064970847</td>\n",
       "      <td>7.159860064970847</td>\n",
       "      <td>True</td>\n",
       "    </tr>\n",
       "  </tbody>\n",
       "</table>\n",
       "<p>93 rows × 9 columns</p>\n",
       "</div>"
      ],
      "text/plain": [
       "              name                                      ticker  \\\n",
       "0           Gamium                                         GMM   \n",
       "2          AdaSwap                                         ASW   \n",
       "3         Step.app                                       FITFI   \n",
       "4         DragonSB                                          SB   \n",
       "5          DeFiato                                       DFIAT   \n",
       "..             ...                                         ...   \n",
       "92       DAO Maker                                         DAO   \n",
       "93       AnRKey X™                                        ANRX   \n",
       "94           PlotX  No ticket found through transform function   \n",
       "95         DeFiner  No ticket found through transform function   \n",
       "97  Orion Protocol  No ticket found through transform function   \n",
       "\n",
       "    platform_raise    coingecko_id coingecko_numerical_id sho_price  \\\n",
       "0           200000          gamium                  22749    0.0003   \n",
       "2           195000         adaswap                  24453     0.005   \n",
       "3          2750000  step-app-fitfi                  25015    0.0049   \n",
       "4           195000        dragonsb                  23738      0.15   \n",
       "5           600000         defiato                  13386      0.08   \n",
       "..             ...             ...                    ...       ...   \n",
       "92         3900000       dao-maker                  13915       0.1   \n",
       "93          125000        anrkey-x                  13415     0.025   \n",
       "94          250000           plotx                  12795      0.05   \n",
       "95           96000         definer                  12780       0.6   \n",
       "97         3750000  orion-protocol                  11841       0.1   \n",
       "\n",
       "   median_listing_sell_price  ath_median_listing  for_charts  \n",
       "0         0.0020978153826027  6.9927179420089995        True  \n",
       "2         0.0355824699101078    7.11649398202156        True  \n",
       "3         0.1878854602035458   38.34397147011139        True  \n",
       "4         0.3267951753518027  2.1786345023453513        True  \n",
       "5         0.1197949601008165  1.4974370012602063        True  \n",
       "..                       ...                 ...         ...  \n",
       "92         2.873655040212752   28.73655040212752        True  \n",
       "93        0.0807808414286971  3.2312336571478837        True  \n",
       "94        0.1350403374578565    2.70080674915713        True  \n",
       "95        1.1935061783750534  1.9891769639584223        True  \n",
       "97        0.7159860064970847   7.159860064970847        True  \n",
       "\n",
       "[93 rows x 9 columns]"
      ]
     },
     "execution_count": 49,
     "metadata": {},
     "output_type": "execute_result"
    }
   ],
   "source": [
    "path_to_csv = '/Users/eaxes/DA Projects/CMC/data/collected_data/mined/price_token_test.csv'\n",
    "df = pd.read_csv(path_to_csv, index_col=0)\n",
    "df = df.query('for_charts == True')\n",
    "df\n"
   ]
  },
  {
   "cell_type": "code",
   "execution_count": 51,
   "id": "260ee1e5",
   "metadata": {},
   "outputs": [
    {
     "name": "stderr",
     "output_type": "stream",
     "text": [
      "/Users/eaxes/opt/anaconda3/lib/python3.9/site-packages/seaborn/distributions.py:2619: FutureWarning: `distplot` is a deprecated function and will be removed in a future version. Please adapt your code to use either `displot` (a figure-level function with similar flexibility) or `histplot` (an axes-level function for histograms).\n",
      "  warnings.warn(msg, FutureWarning)\n"
     ]
    },
    {
     "data": {
      "text/plain": [
       "<AxesSubplot:xlabel='ath_median_listing', ylabel='Density'>"
      ]
     },
     "execution_count": 51,
     "metadata": {},
     "output_type": "execute_result"
    },
    {
     "data": {
      "image/png": "[encoded data removed]",
      "text/plain": [
       "<Figure size 1080x720 with 1 Axes>"
      ]
     },
     "metadata": {},
     "output_type": "display_data"
    }
   ],
   "source": [
    "sns.distplot(df.ath_median_listing)"
   ]
  },
  {
   "cell_type": "code",
   "execution_count": 57,
   "id": "fa0ee9a2",
   "metadata": {},
   "outputs": [
    {
     "data": {
      "text/plain": [
       "count    9.300000e+01\n",
       "mean     1.440140e+01\n",
       "std      2.214222e+01\n",
       "min      1.733519e-36\n",
       "25%      4.861878e+00\n",
       "50%      7.852365e+00\n",
       "75%      1.701591e+01\n",
       "max      1.673117e+02\n",
       "Name: ath_median_listing, dtype: float64"
      ]
     },
     "execution_count": 57,
     "metadata": {},
     "output_type": "execute_result"
    }
   ],
   "source": [
    "pd.to_numeric(df.ath_median_listing).describe()"
   ]
  },
  {
   "cell_type": "code",
   "execution_count": 55,
   "id": "cc926184",
   "metadata": {},
   "outputs": [
    {
     "name": "stderr",
     "output_type": "stream",
     "text": [
      "/Users/eaxes/opt/anaconda3/lib/python3.9/site-packages/seaborn/distributions.py:2619: FutureWarning: `distplot` is a deprecated function and will be removed in a future version. Please adapt your code to use either `displot` (a figure-level function with similar flexibility) or `histplot` (an axes-level function for histograms).\n",
      "  warnings.warn(msg, FutureWarning)\n"
     ]
    },
    {
     "data": {
      "text/plain": [
       "<AxesSubplot:xlabel='ath_median_listing', ylabel='Density'>"
      ]
     },
     "execution_count": 55,
     "metadata": {},
     "output_type": "execute_result"
    },
    {
     "data": {
      "image/png": "[encoded data removed]",
      "text/plain": [
       "<Figure size 1080x720 with 1 Axes>"
      ]
     },
     "metadata": {},
     "output_type": "display_data"
    }
   ],
   "source": [
    "sns.distplot(pd.to_numeric(df.ath_median_listing))"
   ]
  },
  {
   "cell_type": "code",
   "execution_count": 61,
   "id": "4c22f960",
   "metadata": {},
   "outputs": [
    {
     "data": {
      "text/plain": [
       "0.03125"
      ]
     },
     "execution_count": 61,
     "metadata": {},
     "output_type": "execute_result"
    }
   ],
   "source": [
    "0.5 ** 5"
   ]
  },
  {
   "cell_type": "code",
   "execution_count": 63,
   "id": "8ae150d5",
   "metadata": {},
   "outputs": [
    {
     "data": {
      "text/plain": [
       "0.19375"
      ]
     },
     "execution_count": 63,
     "metadata": {},
     "output_type": "execute_result"
    }
   ],
   "source": [
    "(0.5 + 0.25 + 0.125 + 0.0625 + 0.03125) / 5 "
   ]
  },
  {
   "cell_type": "code",
   "execution_count": 64,
   "id": "0145174c",
   "metadata": {},
   "outputs": [
    {
     "data": {
      "text/plain": [
       "0.8125"
      ]
     },
     "execution_count": 64,
     "metadata": {},
     "output_type": "execute_result"
    }
   ],
   "source": [
    "0 * 0.5 + 1*0.25 + 2*0.125 + 3*0.0625 + 4*0.03125"
   ]
  },
  {
   "cell_type": "code",
   "execution_count": 65,
   "id": "2e1b0082",
   "metadata": {},
   "outputs": [
    {
     "data": {
      "text/plain": [
       "1.1317138671875"
      ]
     },
     "execution_count": 65,
     "metadata": {},
     "output_type": "execute_result"
    }
   ],
   "source": [
    "(0 - 0.8125)**2 * 0.5 + (1 - 0.8125)**2 * 0.25 + (2 - 0.8125)**2 * 0.125 + (3 - 0.8125)**2 * 0.0625 + (4 - 0.8125)**2 * 0.03125"
   ]
  },
  {
   "cell_type": "code",
   "execution_count": 66,
   "id": "e9373b34",
   "metadata": {},
   "outputs": [
    {
     "data": {
      "text/plain": [
       "0.0081"
      ]
     },
     "execution_count": 66,
     "metadata": {},
     "output_type": "execute_result"
    }
   ],
   "source": [
    "0.3 ** 4"
   ]
  },
  {
   "cell_type": "code",
   "execution_count": 67,
   "id": "e7252d39",
   "metadata": {},
   "outputs": [
    {
     "data": {
      "text/plain": [
       "0.9999999999999999"
      ]
     },
     "execution_count": 67,
     "metadata": {},
     "output_type": "execute_result"
    }
   ],
   "source": [
    "0.7 + 0.21 + 0.063 + 0.0189 + 0.0081"
   ]
  },
  {
   "cell_type": "code",
   "execution_count": 68,
   "id": "d2371f0a",
   "metadata": {},
   "outputs": [
    {
     "data": {
      "text/plain": [
       "1.3845999999999998"
      ]
     },
     "execution_count": 68,
     "metadata": {},
     "output_type": "execute_result"
    }
   ],
   "source": [
    "1 * 0.7 + 2*0.21 + 3*0.063 + 4*0.0189"
   ]
  },
  {
   "cell_type": "code",
   "execution_count": 73,
   "id": "52ea7072",
   "metadata": {},
   "outputs": [
    {
     "data": {
      "text/plain": [
       "1.4250999999999998"
      ]
     },
     "execution_count": 73,
     "metadata": {},
     "output_type": "execute_result"
    }
   ],
   "source": [
    "1 * 0.7 + 2*0.21 + 3*0.063 + 4*0.0189 + 5*0.0081\n"
   ]
  },
  {
   "cell_type": "code",
   "execution_count": 75,
   "id": "ce2dc34b",
   "metadata": {},
   "outputs": [
    {
     "data": {
      "text/plain": [
       "0.58099"
      ]
     },
     "execution_count": 75,
     "metadata": {},
     "output_type": "execute_result"
    }
   ],
   "source": [
    "(1 - 1.425) **2 * 0.7 + (2 - 1.425) **2 * 0.21 + (3 - 1.425) **2 * 0.063 + (4 - 1.425) **2 * 0.0189  + (5 - 1.425) **2 * 0.0081"
   ]
  },
  {
   "cell_type": "code",
   "execution_count": 76,
   "id": "6c0d2981",
   "metadata": {},
   "outputs": [
    {
     "data": {
      "text/plain": [
       "0.72"
      ]
     },
     "execution_count": 76,
     "metadata": {},
     "output_type": "execute_result"
    }
   ],
   "source": [
    "0*0.6 + 1*0.2 + 2*0.08 + 3*0.12"
   ]
  },
  {
   "cell_type": "code",
   "execution_count": 77,
   "id": "fa9db737",
   "metadata": {},
   "outputs": [
    {
     "data": {
      "text/plain": [
       "1.0816000000000001"
      ]
     },
     "execution_count": 77,
     "metadata": {},
     "output_type": "execute_result"
    }
   ],
   "source": [
    "(0 - 0.72)**2 * 0.6 + (1 - 0.72)**2 * 0.2 + (2 - 0.72)**2 * 0.08 + (3 - 0.72)**2 * 0.12"
   ]
  },
  {
   "cell_type": "code",
   "execution_count": 78,
   "id": "cadf439a",
   "metadata": {},
   "outputs": [
    {
     "data": {
      "text/plain": [
       "0.6399999999999999"
      ]
     },
     "execution_count": 78,
     "metadata": {},
     "output_type": "execute_result"
    }
   ],
   "source": [
    "(0 - 0.6)**2 * 0.6 + (1 - 0.6)**2 * 0.2 + (2 - 0.6)**2 * 0.2"
   ]
  },
  {
   "cell_type": "code",
   "execution_count": 79,
   "id": "5b43aa70",
   "metadata": {},
   "outputs": [],
   "source": [
    "#Задача 4. В ящике содержится 7 стандартных и 3 бракованных детали. \n",
    "#Вынимают детали последовательно до появления стандартной, не возвращая их обратно. \n",
    "#ξ - число извлеченных бракованных деталей. Составить закон распределения дискретной случайной величины ξ, \n",
    "#вычислить ее математическое ожидание, дисперсию, среднее квадратическое отклонение, начертить многоугольник \n",
    "#распределения и график функции распределения.\n",
    "\n",
    "# Пусть Х случайная дискретная величина обозначающая количество бракованных деталей, которые вытащены из\n",
    "# ящика до появления стандартной детали. \n",
    "# Х принимает значение 0 если мы сразу вытащили из ящика стандартную деталь. Р(Х=0) = 0,7\n",
    "# Х принимает значение 1 если мы вытащили одну бракованную деталь и потом стандартную\n",
    "# Р(Х=1) = 0,3 * 0,777 = 0,2333 \n",
    "# Х принимает значение 2 если мы вытащили две бракованные детали и потом стандартную.\n",
    "# Р(Х=2) = 0,3 * 0,222 * 0,875 = 0,0582\n",
    "# Х принимает значение 3 если мы вытащили три бракованные детали и потом стандартную.\n",
    "# Х(Р=3) = 0,3 * 0,222 * 0,125 = 0,008325\n",
    "\n",
    "# Распределение случайной величины Х принимает следующий вид: \n",
    "# Х    0        1         2           3\n",
    "# P   0,7.   0,2333    0,0582     0,008325\n",
    "\n",
    "# Расчет математического ожидания\n",
    "# М(х) = СУММ Pi * Xi = 0 * 0,7 + 1 * 0,2333 + 2 * 0,0582 + 3 * 0,008325 = 0,3746\n",
    "# Расчет дисперсии\n",
    "# D(x) = СУММ (Xi - M(x))**2 * Pi = (0 - 0.3746) ** 2 * 0.7 + (1 - 0.3746) ** 2 * 0.2333 + \n",
    "# (2 - 0.3746) ** 2 * 0.0582 + (3 - 0.3746) ** 2 * 0.008325 = 0.4\n",
    "# Среднеквадратическая ошибка\n",
    "# d = КОРЕНЬ 0,4 = 0.6324\n"
   ]
  },
  {
   "cell_type": "code",
   "execution_count": 81,
   "id": "b49d0a4f",
   "metadata": {},
   "outputs": [
    {
     "data": {
      "text/plain": [
       "0.40061909309699995"
      ]
     },
     "execution_count": 81,
     "metadata": {},
     "output_type": "execute_result"
    }
   ],
   "source": [
    "(0 - 0.3746) ** 2 * 0.7 + (1 - 0.3746) ** 2 * 0.2333 + (2 - 0.3746) ** 2 * 0.0582 + (3 - 0.3746) ** 2 * 0.008325"
   ]
  },
  {
   "cell_type": "code",
   "execution_count": 83,
   "id": "5e5176ff",
   "metadata": {},
   "outputs": [
    {
     "data": {
      "text/plain": [
       "0.6324555320336759"
      ]
     },
     "execution_count": 83,
     "metadata": {},
     "output_type": "execute_result"
    }
   ],
   "source": [
    "0.4 ** 0.5"
   ]
  },
  {
   "cell_type": "code",
   "execution_count": 84,
   "id": "9f8e89fa",
   "metadata": {},
   "outputs": [],
   "source": [
    "#Задача 5. На переэкзаменовку по теории вероятностей явились 3 студента. \n",
    "#Вероятность того, что первый сдаст экзамен, равна 0,8, второй - 0,7, третий - 0,9. \n",
    "#Найдите ряд распределения случайной величины ξ числа студентов, сдавших экзамен, постройте \n",
    "#график функции распределения, найдите М(ξ),D(ξ).\n",
    "\n",
    "#Пусть случайная величина Х отражает количество студентов, сдавших экзамен и принимает значения 0, 1, 2, 3\n",
    "# Пусть Р(A1) - вероятность того, что первый студент сдаст экзамен. Р(А1) = 0.8\n",
    "# Пусть Р(А2) - вероятность того, что второй студент сдаст экзамен. Р(А2) = 0.7\n",
    "# Пусть Р(А3) - вероятность того, что третий студент сдаст экзамен. Р(А3) = 0.9\n",
    "\n",
    "#Случайная величина Х принимает значение 0 если никто из студентов не сдал экзамен. Р(Х=0) = Р(А1^)*P(A2^)*P(A3^) =\n",
    "# = 0.2 * 0.3 * 0.1 = 0,006\n",
    "# Случайная величина Х принимает значение 1 если один студент сдал экзамен. \n",
    "# Р(Х=1) = P(A1)*P(A2^)*P(A3^) + P(A1^)*P(A2)*P(A3^) + P(A1^)*P(A2^)*P(A3) = \n",
    "# = 0.8*0.3*0.1 + 0.2*0.7*0.1 + 0.2*0.3*0.9 = 0.092\n",
    "# Случайная величина Х принимает значение 2 если два студента сдали экзамен.\n",
    "# Р(X=2) = P(A1)*P(A2)*P(A3^) + P(A1)*P(A2^)*P(A3) + P(A1^)*P(A2)*P(A3) = \n",
    "# = 0.8*0.7*0.1 + 0.8*0.3*0.9 + 0.2*0.7*0.9 = 0.398\n",
    "# Случайная величина Х принимает значение 3 если три студента сдали экзамен\n",
    "# P(X=3) = P(A1)*P(A2)*P(A3) = 0.8 * 0.7 * 0.9 = 0,504\n",
    "# Распределение дискретной случайной величины принимает следующий вид:\n",
    "# Х      0       1         2          3\n",
    "# P    0,006    0,092    0,398      0,504\n",
    "# Математическое ожидание М(Х): \n",
    "# М(Х) = СУММ Xi * Pi = 0*0.006 + 1*0.092 + 2*0.398 + 3*0.504 = 2,4\n",
    "# Дисперсия D(X):\n",
    "# D(X) = CYMM (X - M(X))**2 * Pi = (0 - 2.4)**2*0.006 + (1 - 2.4)**2*0.092\n",
    "# +(2 - 2.4)**2*0.398 + (3 - 2.4)**2*0.504 = 0.46\n",
    "# Среднеквадратическая ошибка:\n",
    "# d = 0.6782"
   ]
  },
  {
   "cell_type": "code",
   "execution_count": 85,
   "id": "2955ec3e",
   "metadata": {},
   "outputs": [
    {
     "data": {
      "text/plain": [
       "0.092"
      ]
     },
     "execution_count": 85,
     "metadata": {},
     "output_type": "execute_result"
    }
   ],
   "source": [
    "0.8*0.3*0.1 + 0.2*0.7*0.1 + 0.2*0.3*0.9"
   ]
  },
  {
   "cell_type": "code",
   "execution_count": 86,
   "id": "44094392",
   "metadata": {},
   "outputs": [
    {
     "data": {
      "text/plain": [
       "0.398"
      ]
     },
     "execution_count": 86,
     "metadata": {},
     "output_type": "execute_result"
    }
   ],
   "source": [
    "0.8*0.7*0.1 + 0.8*0.3*0.9 + 0.2*0.7*0.9"
   ]
  },
  {
   "cell_type": "code",
   "execution_count": 88,
   "id": "133d4a8f",
   "metadata": {},
   "outputs": [
    {
     "data": {
      "text/plain": [
       "2.4"
      ]
     },
     "execution_count": 88,
     "metadata": {},
     "output_type": "execute_result"
    }
   ],
   "source": [
    "0*0.006 + 1*0.092 + 2*0.398 + 3*0.504"
   ]
  },
  {
   "cell_type": "code",
   "execution_count": 89,
   "id": "74e9d90b",
   "metadata": {},
   "outputs": [
    {
     "data": {
      "text/plain": [
       "0.46"
      ]
     },
     "execution_count": 89,
     "metadata": {},
     "output_type": "execute_result"
    }
   ],
   "source": [
    "(0 - 2.4)**2*0.006 + (1 - 2.4)**2*0.092 +(2 - 2.4)**2*0.398 + (3 - 2.4)**2*0.504"
   ]
  },
  {
   "cell_type": "code",
   "execution_count": 90,
   "id": "c9bad5e9",
   "metadata": {},
   "outputs": [
    {
     "data": {
      "text/plain": [
       "0.6782329983125268"
      ]
     },
     "execution_count": 90,
     "metadata": {},
     "output_type": "execute_result"
    }
   ],
   "source": [
    "0.46 ** 0.5"
   ]
  },
  {
   "cell_type": "code",
   "execution_count": 91,
   "id": "c7f007f5",
   "metadata": {},
   "outputs": [],
   "source": [
    "#Задача 6. Вероятность попадания в цель при одном выстреле равна 0,8 \n",
    "#и уменьшается с каждым выстрелом на 0,1. Составить закон распределения \n",
    "#числа попаданий в цель, если сделано три выстрела. Найти математическое ожидание, \n",
    "#дисперсию и С.К.О. этой случайной величины. Построить график функции распределения.\n",
    "\n",
    "# Пусть Х случайная дискретная величина отображающая число совершенных выстрелов для попадания в мишень\n",
    "# и принимающее значения 1, 2, 3, 4\n",
    "# P(A1) = 0.9, P(A2) = 0.8, P(A3) = 0.7\n",
    "# Случайная величина Х принимает значение 0 если все три выстрела были произведены мимо цели\n",
    "# Р(Х=0) = P(A1^) * P(A2^) * P(A3^) = 0.1 * 0.2 * 0.3 = 0.006\n",
    "# Случайная величина Х принимает значение 1 если один выстрел попал в цель\n",
    "# P(X=1) = P(A1)*P(A2^)*P(A3^) + P(A1^)*P(A2)*P(A3^) + P(A1^)*P(A2^)*P(A3) =\n",
    "# = 0.9*0.2*0.3 + 0.1*0.8*0.3 + 0.1*0.2*0.7 = 0.092\n",
    "# P(X=2) = P(A1)*P(A2)*P(A3^) + P(A1)*P(A2^)*P(A3) + P(A1^)*P(A2)*P(A3) =\n",
    "# = 0.9*0.8*0.3 + 0.9*0.2*0.7 + 0.1*0.8*0.7 = 0.398\n",
    "# P(X=3) = 0.9*0.8*0.7 = 0.504\n",
    "# Распределение случайной величины Х\n",
    "# X.     0.   1.     2.    3\n",
    "# P.  0.006 0.092  0.398 0.504\n",
    "# M(X) = CYMM Pi*Xi = 0*0.006 + 1*0.092 + 2*0.398 + 3*0.504 = 2.4\n",
    "# D(X) = СУММ (X - M(X))**2*Pi = (0 - 2.4)**2*0.006 + (1 - 2.4)**2*0.092 + \n",
    "# (2 - 2.4)**2*0.398 + (3 - 2.4)**2*0.504 = 2.4\n",
    "# d = 1.549"
   ]
  },
  {
   "cell_type": "code",
   "execution_count": 99,
   "id": "0a8b398f",
   "metadata": {},
   "outputs": [
    {
     "data": {
      "text/plain": [
       "2.4"
      ]
     },
     "execution_count": 99,
     "metadata": {},
     "output_type": "execute_result"
    }
   ],
   "source": [
    "0*0.006 + 1*0.092 + 2*0.398 + 3*0.504"
   ]
  },
  {
   "cell_type": "code",
   "execution_count": 100,
   "id": "8a87411f",
   "metadata": {},
   "outputs": [
    {
     "data": {
      "text/plain": [
       "1.5491933384829668"
      ]
     },
     "execution_count": 100,
     "metadata": {},
     "output_type": "execute_result"
    }
   ],
   "source": [
    "2.4**0.5"
   ]
  },
  {
   "cell_type": "code",
   "execution_count": 101,
   "id": "84ef02da",
   "metadata": {},
   "outputs": [],
   "source": [
    "#Задача 7. По цели производится 4 выстрела. Вероятность попадания при этом растет так: \n",
    "#0,2, 0,4, 0,6, 0,7. Найти закон распределения случайной величины X - числа попаданий. \n",
    "#Найти вероятность того, что X≥1.\n",
    "# P(A1) = 0.2 P(A2) = 0.4, P(A3) = 0.6 P(A4) = 0.7\n",
    "# X -> 0,1,2,3,4\n",
    "# P(X=0) = 0.8*0.6*0.4*0.3 = 0.0576\n",
    "# P(X=1) = 0.2*0.6*0.4*0.3 + 0.8*0.4*0.4*0.3 + 0.8*0.6*0.6*0.3 + 0.8*0.6*0.4*0.7 = 0.27359"
   ]
  },
  {
   "cell_type": "code",
   "execution_count": 102,
   "id": "6e347b6b",
   "metadata": {},
   "outputs": [
    {
     "data": {
      "text/plain": [
       "0.0576"
      ]
     },
     "execution_count": 102,
     "metadata": {},
     "output_type": "execute_result"
    }
   ],
   "source": [
    "0.8*0.6*0.4*0.3 "
   ]
  },
  {
   "cell_type": "code",
   "execution_count": 103,
   "id": "59e34546",
   "metadata": {},
   "outputs": [
    {
     "data": {
      "text/plain": [
       "0.27359999999999995"
      ]
     },
     "execution_count": 103,
     "metadata": {},
     "output_type": "execute_result"
    }
   ],
   "source": [
    "0.2*0.6*0.4*0.3 + 0.8*0.4*0.4*0.3 + 0.8*0.6*0.6*0.3 + 0.8*0.6*0.4*0.7 "
   ]
  },
  {
   "cell_type": "code",
   "execution_count": 105,
   "id": "705f67da",
   "metadata": {},
   "outputs": [
    {
     "data": {
      "text/plain": [
       "0.7071067811865476"
      ]
     },
     "execution_count": 105,
     "metadata": {},
     "output_type": "execute_result"
    }
   ],
   "source": [
    "2**0.5 / 2"
   ]
  },
  {
   "cell_type": "code",
   "execution_count": 106,
   "id": "61c0e55f",
   "metadata": {},
   "outputs": [],
   "source": [
    "#Рассчитайте 99% доверительный интервал для следующего примера:\n",
    "\n",
    "#Если нужна помощь, напишите сюда\n",
    "\n",
    "#Подсказки\n",
    "\n",
    "#x=10\n",
    "#sd=5\n",
    "#n=100\n",
    "\n",
    "#se = std / n ** 0.5\n",
    "m = 10\n",
    "sd =5\n",
    "n = 100\n",
    "se = 5 / n**0.5\n",
    "\n"
   ]
  },
  {
   "cell_type": "code",
   "execution_count": 107,
   "id": "98bb71a4",
   "metadata": {},
   "outputs": [
    {
     "data": {
      "text/plain": [
       "0.5"
      ]
     },
     "execution_count": 107,
     "metadata": {},
     "output_type": "execute_result"
    }
   ],
   "source": [
    "se"
   ]
  },
  {
   "cell_type": "code",
   "execution_count": 110,
   "id": "bad3fc24",
   "metadata": {},
   "outputs": [
    {
     "data": {
      "text/plain": [
       "11.288"
      ]
     },
     "execution_count": 110,
     "metadata": {},
     "output_type": "execute_result"
    }
   ],
   "source": [
    "d1 = m + 2.576*0.5\n",
    "d2 = m - 2.576*0.5\n",
    "d1"
   ]
  },
  {
   "cell_type": "code",
   "execution_count": 111,
   "id": "badf0880",
   "metadata": {},
   "outputs": [
    {
     "data": {
      "text/plain": [
       "8.712"
      ]
     },
     "execution_count": 111,
     "metadata": {},
     "output_type": "execute_result"
    }
   ],
   "source": [
    "d2"
   ]
  },
  {
   "cell_type": "code",
   "execution_count": 113,
   "id": "f46da637",
   "metadata": {},
   "outputs": [],
   "source": [
    "n = 64\n",
    "sd = 4\n",
    "X = 18.5\n",
    "se = sd / n ** 0.5\n",
    "int_1  = X + 1.96*se\n",
    "int_2 = X - 1.96*se"
   ]
  },
  {
   "cell_type": "code",
   "execution_count": 114,
   "id": "6cdd107b",
   "metadata": {},
   "outputs": [
    {
     "data": {
      "text/plain": [
       "19.48"
      ]
     },
     "execution_count": 114,
     "metadata": {},
     "output_type": "execute_result"
    }
   ],
   "source": [
    "int_1\n"
   ]
  },
  {
   "cell_type": "code",
   "execution_count": 115,
   "id": "d1f0742d",
   "metadata": {},
   "outputs": [
    {
     "data": {
      "text/plain": [
       "17.52"
      ]
     },
     "execution_count": 115,
     "metadata": {},
     "output_type": "execute_result"
    }
   ],
   "source": [
    "int_2"
   ]
  },
  {
   "cell_type": "code",
   "execution_count": 116,
   "id": "4085be93",
   "metadata": {},
   "outputs": [],
   "source": [
    "n = 144\n",
    "sd = 9\n",
    "m = 118\n",
    "se =sd / n**0.5\n",
    "int_1 = m + 1.96*se\n",
    "int_2 = m - 1.96*se\n"
   ]
  },
  {
   "cell_type": "code",
   "execution_count": 117,
   "id": "28203fb8",
   "metadata": {},
   "outputs": [
    {
     "data": {
      "text/plain": [
       "119.47"
      ]
     },
     "execution_count": 117,
     "metadata": {},
     "output_type": "execute_result"
    }
   ],
   "source": [
    "int_1"
   ]
  },
  {
   "cell_type": "code",
   "execution_count": 118,
   "id": "afda4467",
   "metadata": {},
   "outputs": [
    {
     "data": {
      "text/plain": [
       "116.53"
      ]
     },
     "execution_count": 118,
     "metadata": {},
     "output_type": "execute_result"
    }
   ],
   "source": [
    "int_2"
   ]
  },
  {
   "cell_type": "code",
   "execution_count": null,
   "id": "f2ba7517",
   "metadata": {},
   "outputs": [],
   "source": []
  }
 ],
 "metadata": {
  "kernelspec": {
   "display_name": "Python 3 (ipykernel)",
   "language": "python",
   "name": "python3"
  },
  "language_info": {
   "codemirror_mode": {
    "name": "ipython",
    "version": 3
   },
   "file_extension": ".py",
   "mimetype": "text/x-python",
   "name": "python",
   "nbconvert_exporter": "python",
   "pygments_lexer": "ipython3",
   "version": "3.9.7"
  },
  "varInspector": {
   "cols": {
    "lenName": 16,
    "lenType": 16,
    "lenVar": 40
   },
   "kernels_config": {
    "python": {
     "delete_cmd_postfix": "",
     "delete_cmd_prefix": "del ",
     "library": "var_list.py",
     "varRefreshCmd": "print(var_dic_list())"
    },
    "r": {
     "delete_cmd_postfix": ") ",
     "delete_cmd_prefix": "rm(",
     "library": "var_list.r",
     "varRefreshCmd": "cat(var_dic_list()) "
    }
   },
   "types_to_exclude": [
    "module",
    "function",
    "builtin_function_or_method",
    "instance",
    "_Feature"
   ],
   "window_display": false
  }
 },
 "nbformat": 4,
 "nbformat_minor": 5
}
