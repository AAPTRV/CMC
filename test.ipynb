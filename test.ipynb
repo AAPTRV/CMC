{
 "cells": [
  {
   "cell_type": "code",
   "execution_count": 77,
   "id": "0db11b54",
   "metadata": {},
   "outputs": [],
   "source": [
    "import pandas as pd\n",
    "import numpy as np\n",
    "import datetime\n",
    "import time\n",
    "import seaborn as sns\n",
    "import matplotlib.pyplot as plt"
   ]
  },
  {
   "cell_type": "code",
   "execution_count": 78,
   "id": "b4cf20f2",
   "metadata": {},
   "outputs": [],
   "source": [
    "path_test = '/Users/eaxes/DA Projects/CMC/data/collected_data/coins_date_and_values'"
   ]
  },
  {
   "cell_type": "code",
   "execution_count": 79,
   "id": "5c02b822",
   "metadata": {},
   "outputs": [],
   "source": [
    "def get_listing_sell_price(hours, path_to_values, coingecko_id):\n",
    "    dateparse = lambda x: datetime.datetime.strptime(x, '%Y-%m-%d %H:%M')\n",
    "    df_values = pd.read_csv(path_to_values, index_col = 0, \\\n",
    "                           parse_dates=['date'], \\\n",
    "                           date_parser=dateparse)\n",
    "    df_values_for_coin = df_values.query('coingecko_numerical_id == @coingecko_id')\n",
    "    border_date = df_values_for_coin.date.min() + datetime.timedelta(hours=12)\n",
    "    df_border_values = df_values_for_coin.query(\"date < @border_date\")\n",
    "    return df_border_values.value.median()\n",
    "    "
   ]
  },
  {
   "cell_type": "code",
   "execution_count": 81,
   "id": "70c4eea3",
   "metadata": {},
   "outputs": [
    {
     "data": {
      "text/plain": [
       "0.035165478331236705"
      ]
     },
     "execution_count": 81,
     "metadata": {},
     "output_type": "execute_result"
    }
   ],
   "source": [
    "get_listing_sell_price(12, path_test, 24453)"
   ]
  },
  {
   "cell_type": "code",
   "execution_count": 33,
   "id": "fe876aeb",
   "metadata": {},
   "outputs": [
    {
     "data": {
      "text/plain": [
       "coingecko_numerical_id             int64\n",
       "date                      datetime64[ns]\n",
       "value                            float64\n",
       "dtype: object"
      ]
     },
     "execution_count": 33,
     "metadata": {},
     "output_type": "execute_result"
    }
   ],
   "source": [
    "dateparse = lambda x: datetime.datetime.strptime(x, '%Y-%m-%d %H:%M')\n",
    "df_values = pd.read_csv('/Users/eaxes/DA Projects/CMC/data/collected_data/coins_date_and_values', \\\n",
    "                        index_col = 0, \\\n",
    "                        parse_dates=['date'], \\\n",
    "                        date_parser=dateparse)\n",
    "df_values.dtypes"
   ]
  },
  {
   "cell_type": "code",
   "execution_count": 34,
   "id": "8c1e929f",
   "metadata": {},
   "outputs": [
    {
     "data": {
      "text/html": [
       "<div>\n",
       "<style scoped>\n",
       "    .dataframe tbody tr th:only-of-type {\n",
       "        vertical-align: middle;\n",
       "    }\n",
       "\n",
       "    .dataframe tbody tr th {\n",
       "        vertical-align: top;\n",
       "    }\n",
       "\n",
       "    .dataframe thead th {\n",
       "        text-align: right;\n",
       "    }\n",
       "</style>\n",
       "<table border=\"1\" class=\"dataframe\">\n",
       "  <thead>\n",
       "    <tr style=\"text-align: right;\">\n",
       "      <th></th>\n",
       "      <th>coingecko_numerical_id</th>\n",
       "      <th>date</th>\n",
       "      <th>value</th>\n",
       "    </tr>\n",
       "  </thead>\n",
       "  <tbody>\n",
       "    <tr>\n",
       "      <th>0</th>\n",
       "      <td>24453</td>\n",
       "      <td>2022-04-05 13:04:00</td>\n",
       "      <td>0.033954</td>\n",
       "    </tr>\n",
       "    <tr>\n",
       "      <th>1</th>\n",
       "      <td>24453</td>\n",
       "      <td>2022-04-05 14:03:00</td>\n",
       "      <td>0.037211</td>\n",
       "    </tr>\n",
       "    <tr>\n",
       "      <th>2</th>\n",
       "      <td>24453</td>\n",
       "      <td>2022-04-05 15:04:00</td>\n",
       "      <td>0.034519</td>\n",
       "    </tr>\n",
       "    <tr>\n",
       "      <th>3</th>\n",
       "      <td>24453</td>\n",
       "      <td>2022-04-05 16:02:00</td>\n",
       "      <td>0.038607</td>\n",
       "    </tr>\n",
       "    <tr>\n",
       "      <th>4</th>\n",
       "      <td>24453</td>\n",
       "      <td>2022-04-05 17:02:00</td>\n",
       "      <td>0.036294</td>\n",
       "    </tr>\n",
       "    <tr>\n",
       "      <th>...</th>\n",
       "      <td>...</td>\n",
       "      <td>...</td>\n",
       "      <td>...</td>\n",
       "    </tr>\n",
       "    <tr>\n",
       "      <th>1431</th>\n",
       "      <td>24453</td>\n",
       "      <td>2022-06-04 08:12:00</td>\n",
       "      <td>0.002441</td>\n",
       "    </tr>\n",
       "    <tr>\n",
       "      <th>1432</th>\n",
       "      <td>24453</td>\n",
       "      <td>2022-06-04 09:16:00</td>\n",
       "      <td>0.002422</td>\n",
       "    </tr>\n",
       "    <tr>\n",
       "      <th>1433</th>\n",
       "      <td>24453</td>\n",
       "      <td>2022-06-04 10:13:00</td>\n",
       "      <td>0.002417</td>\n",
       "    </tr>\n",
       "    <tr>\n",
       "      <th>1434</th>\n",
       "      <td>24453</td>\n",
       "      <td>2022-06-04 11:12:00</td>\n",
       "      <td>0.002483</td>\n",
       "    </tr>\n",
       "    <tr>\n",
       "      <th>1435</th>\n",
       "      <td>24453</td>\n",
       "      <td>2022-06-04 12:06:00</td>\n",
       "      <td>0.002478</td>\n",
       "    </tr>\n",
       "  </tbody>\n",
       "</table>\n",
       "<p>1436 rows × 3 columns</p>\n",
       "</div>"
      ],
      "text/plain": [
       "      coingecko_numerical_id                date     value\n",
       "0                      24453 2022-04-05 13:04:00  0.033954\n",
       "1                      24453 2022-04-05 14:03:00  0.037211\n",
       "2                      24453 2022-04-05 15:04:00  0.034519\n",
       "3                      24453 2022-04-05 16:02:00  0.038607\n",
       "4                      24453 2022-04-05 17:02:00  0.036294\n",
       "...                      ...                 ...       ...\n",
       "1431                   24453 2022-06-04 08:12:00  0.002441\n",
       "1432                   24453 2022-06-04 09:16:00  0.002422\n",
       "1433                   24453 2022-06-04 10:13:00  0.002417\n",
       "1434                   24453 2022-06-04 11:12:00  0.002483\n",
       "1435                   24453 2022-06-04 12:06:00  0.002478\n",
       "\n",
       "[1436 rows x 3 columns]"
      ]
     },
     "execution_count": 34,
     "metadata": {},
     "output_type": "execute_result"
    }
   ],
   "source": [
    "id = 24453\n",
    "df_values_for_coin = df_values.query('coingecko_numerical_id == @id')\n",
    "df_values_for_coin"
   ]
  },
  {
   "cell_type": "code",
   "execution_count": 60,
   "id": "d97010a0",
   "metadata": {},
   "outputs": [],
   "source": [
    "border_date = df_values_for_coin.date.min() + datetime.timedelta(hours=12)\n"
   ]
  },
  {
   "cell_type": "code",
   "execution_count": 61,
   "id": "bf6a94da",
   "metadata": {},
   "outputs": [
    {
     "data": {
      "text/html": [
       "<div>\n",
       "<style scoped>\n",
       "    .dataframe tbody tr th:only-of-type {\n",
       "        vertical-align: middle;\n",
       "    }\n",
       "\n",
       "    .dataframe tbody tr th {\n",
       "        vertical-align: top;\n",
       "    }\n",
       "\n",
       "    .dataframe thead th {\n",
       "        text-align: right;\n",
       "    }\n",
       "</style>\n",
       "<table border=\"1\" class=\"dataframe\">\n",
       "  <thead>\n",
       "    <tr style=\"text-align: right;\">\n",
       "      <th></th>\n",
       "      <th>coingecko_numerical_id</th>\n",
       "      <th>date</th>\n",
       "      <th>value</th>\n",
       "    </tr>\n",
       "  </thead>\n",
       "  <tbody>\n",
       "    <tr>\n",
       "      <th>0</th>\n",
       "      <td>24453</td>\n",
       "      <td>2022-04-05 13:04:00</td>\n",
       "      <td>0.033954</td>\n",
       "    </tr>\n",
       "    <tr>\n",
       "      <th>1</th>\n",
       "      <td>24453</td>\n",
       "      <td>2022-04-05 14:03:00</td>\n",
       "      <td>0.037211</td>\n",
       "    </tr>\n",
       "    <tr>\n",
       "      <th>2</th>\n",
       "      <td>24453</td>\n",
       "      <td>2022-04-05 15:04:00</td>\n",
       "      <td>0.034519</td>\n",
       "    </tr>\n",
       "    <tr>\n",
       "      <th>3</th>\n",
       "      <td>24453</td>\n",
       "      <td>2022-04-05 16:02:00</td>\n",
       "      <td>0.038607</td>\n",
       "    </tr>\n",
       "    <tr>\n",
       "      <th>4</th>\n",
       "      <td>24453</td>\n",
       "      <td>2022-04-05 17:02:00</td>\n",
       "      <td>0.036294</td>\n",
       "    </tr>\n",
       "  </tbody>\n",
       "</table>\n",
       "</div>"
      ],
      "text/plain": [
       "   coingecko_numerical_id                date     value\n",
       "0                   24453 2022-04-05 13:04:00  0.033954\n",
       "1                   24453 2022-04-05 14:03:00  0.037211\n",
       "2                   24453 2022-04-05 15:04:00  0.034519\n",
       "3                   24453 2022-04-05 16:02:00  0.038607\n",
       "4                   24453 2022-04-05 17:02:00  0.036294"
      ]
     },
     "execution_count": 61,
     "metadata": {},
     "output_type": "execute_result"
    }
   ],
   "source": [
    "df_border_values = df_values_for_coin.query(\"date < @border_date\")\n",
    "df_border_values.head()"
   ]
  },
  {
   "cell_type": "code",
   "execution_count": 62,
   "id": "34db4380",
   "metadata": {},
   "outputs": [
    {
     "data": {
      "text/plain": [
       "<AxesSubplot:xlabel='date', ylabel='value'>"
      ]
     },
     "execution_count": 62,
     "metadata": {},
     "output_type": "execute_result"
    },
    {
     "data": {
      "image/png": "[encoded data removed]",
      "text/plain": [
       "<Figure size 1440x720 with 1 Axes>"
      ]
     },
     "metadata": {},
     "output_type": "display_data"
    }
   ],
   "source": [
    "sns.lineplot(data = df_border_values, x = 'date', y = 'value')"
   ]
  },
  {
   "cell_type": "code",
   "execution_count": 64,
   "id": "98bb45b1",
   "metadata": {},
   "outputs": [
    {
     "data": {
      "text/plain": [
       "0.035165478331236705"
      ]
     },
     "execution_count": 64,
     "metadata": {},
     "output_type": "execute_result"
    }
   ],
   "source": [
    "df_border_values.value.median()"
   ]
  },
  {
   "cell_type": "code",
   "execution_count": null,
   "id": "6401770f",
   "metadata": {},
   "outputs": [],
   "source": []
  }
 ],
 "metadata": {
  "kernelspec": {
   "display_name": "Python 3 (ipykernel)",
   "language": "python",
   "name": "python3"
  },
  "language_info": {
   "codemirror_mode": {
    "name": "ipython",
    "version": 3
   },
   "file_extension": ".py",
   "mimetype": "text/x-python",
   "name": "python",
   "nbconvert_exporter": "python",
   "pygments_lexer": "ipython3",
   "version": "3.9.7"
  },
  "varInspector": {
   "cols": {
    "lenName": 16,
    "lenType": 16,
    "lenVar": 40
   },
   "kernels_config": {
    "python": {
     "delete_cmd_postfix": "",
     "delete_cmd_prefix": "del ",
     "library": "var_list.py",
     "varRefreshCmd": "print(var_dic_list())"
    },
    "r": {
     "delete_cmd_postfix": ") ",
     "delete_cmd_prefix": "rm(",
     "library": "var_list.r",
     "varRefreshCmd": "cat(var_dic_list()) "
    }
   },
   "types_to_exclude": [
    "module",
    "function",
    "builtin_function_or_method",
    "instance",
    "_Feature"
   ],
   "window_display": false
  }
 },
 "nbformat": 4,
 "nbformat_minor": 5
}
