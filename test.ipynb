{
 "cells": [
  {
   "cell_type": "code",
   "execution_count": 161,
   "id": "cd7cd243",
   "metadata": {},
   "outputs": [
    {
     "data": {
      "text/plain": [
       "Timestamp('2022-06-23 17:31:02.528603')"
      ]
     },
     "execution_count": 161,
     "metadata": {},
     "output_type": "execute_result"
    }
   ],
   "source": [
    "date.now()"
   ]
  },
  {
   "cell_type": "code",
   "execution_count": 134,
   "id": "0db11b54",
   "metadata": {},
   "outputs": [],
   "source": [
    "import pandas as pd\n",
    "import numpy as np\n",
    "import seaborn as sns\n",
    "import data.collected_data.methods.get_listing_median_price as gt\n",
    "import matplotlib.pyplot as plt\n",
    "import re\n",
    "import data.collected_data.economics.schedule as sch\n",
    "\n",
    "sns.set(rc={'figure.figsize': (15, 10)},\n",
    "        style=\"whitegrid\", font_scale= 0.8)\n",
    "\n",
    "path_to_values = '/Users/eaxes/DA Projects/CMC/data/collected_data/coins_date_and_values'\n",
    "\n",
    "\n"
   ]
  },
  {
   "cell_type": "code",
   "execution_count": null,
   "id": "d0ebc00b",
   "metadata": {},
   "outputs": [],
   "source": []
  },
  {
   "cell_type": "code",
   "execution_count": 160,
   "id": "f54897d0",
   "metadata": {},
   "outputs": [
    {
     "data": {
      "text/plain": [
       "Timestamp('2022-06-23 17:30:54.042711')"
      ]
     },
     "execution_count": 160,
     "metadata": {},
     "output_type": "execute_result"
    }
   ],
   "source": [
    "date.now()"
   ]
  },
  {
   "cell_type": "code",
   "execution_count": 135,
   "id": "872fdea3",
   "metadata": {},
   "outputs": [],
   "source": [
    "import pandas as pd\n",
    "import numpy as np\n",
    "\n",
    "base_df_path = \"/Users/eaxes/DA Projects/CMC/data/collected_data/mined/price_token_test.csv\"\n",
    "values_df_path = '/Users/eaxes/DA Projects/CMC/data/collected_data/coins_date_and_values'\n",
    "\n",
    "slug = \"gamefi\"\n",
    "df = pd.read_csv(base_df_path, index_col=0)\n",
    "token_common_df = df.query(\"slug == @slug\")"
   ]
  },
  {
   "cell_type": "code",
   "execution_count": 136,
   "id": "e8fb3b0a",
   "metadata": {},
   "outputs": [
    {
     "data": {
      "text/html": [
       "<div>\n",
       "<style scoped>\n",
       "    .dataframe tbody tr th:only-of-type {\n",
       "        vertical-align: middle;\n",
       "    }\n",
       "\n",
       "    .dataframe tbody tr th {\n",
       "        vertical-align: top;\n",
       "    }\n",
       "\n",
       "    .dataframe thead th {\n",
       "        text-align: right;\n",
       "    }\n",
       "</style>\n",
       "<table border=\"1\" class=\"dataframe\">\n",
       "  <thead>\n",
       "    <tr style=\"text-align: right;\">\n",
       "      <th></th>\n",
       "      <th>name</th>\n",
       "      <th>ticker</th>\n",
       "      <th>platform_raise</th>\n",
       "      <th>coingecko_id</th>\n",
       "      <th>coingecko_numerical_id</th>\n",
       "      <th>sho_price</th>\n",
       "      <th>personal_allocation</th>\n",
       "      <th>slug</th>\n",
       "      <th>median_listing_sell_price</th>\n",
       "      <th>token_personal_cap</th>\n",
       "      <th>ath_median_listing</th>\n",
       "      <th>for_charts</th>\n",
       "    </tr>\n",
       "  </thead>\n",
       "  <tbody>\n",
       "    <tr>\n",
       "      <th>42</th>\n",
       "      <td>GameFi</td>\n",
       "      <td>GAFI</td>\n",
       "      <td>95000</td>\n",
       "      <td>gamefi</td>\n",
       "      <td>18292</td>\n",
       "      <td>1.0</td>\n",
       "      <td>500.0</td>\n",
       "      <td>gamefi</td>\n",
       "      <td>3.860847855497112e-17</td>\n",
       "      <td>500.0</td>\n",
       "      <td>3.860847855497112e-17</td>\n",
       "      <td>True</td>\n",
       "    </tr>\n",
       "  </tbody>\n",
       "</table>\n",
       "</div>"
      ],
      "text/plain": [
       "      name ticker  platform_raise coingecko_id coingecko_numerical_id  \\\n",
       "42  GameFi   GAFI           95000       gamefi                  18292   \n",
       "\n",
       "    sho_price personal_allocation    slug median_listing_sell_price  \\\n",
       "42        1.0               500.0  gamefi     3.860847855497112e-17   \n",
       "\n",
       "   token_personal_cap     ath_median_listing  for_charts  \n",
       "42              500.0  3.860847855497112e-17        True  "
      ]
     },
     "execution_count": 136,
     "metadata": {},
     "output_type": "execute_result"
    }
   ],
   "source": [
    "token_common_df"
   ]
  },
  {
   "cell_type": "code",
   "execution_count": 159,
   "id": "b2bbd48f",
   "metadata": {},
   "outputs": [
    {
     "data": {
      "text/plain": [
       "Timestamp('2022-06-23 17:30:33.106200')"
      ]
     },
     "execution_count": 159,
     "metadata": {},
     "output_type": "execute_result"
    }
   ],
   "source": [
    "coingecko_numerical_id = int(token_common_df.coingecko_numerical_id.values[0])\n",
    "coingecko_numerical_id"
   ]
  },
  {
   "cell_type": "code",
   "execution_count": 138,
   "id": "44eea566",
   "metadata": {},
   "outputs": [
    {
     "data": {
      "text/html": [
       "<div>\n",
       "<style scoped>\n",
       "    .dataframe tbody tr th:only-of-type {\n",
       "        vertical-align: middle;\n",
       "    }\n",
       "\n",
       "    .dataframe tbody tr th {\n",
       "        vertical-align: top;\n",
       "    }\n",
       "\n",
       "    .dataframe thead th {\n",
       "        text-align: right;\n",
       "    }\n",
       "</style>\n",
       "<table border=\"1\" class=\"dataframe\">\n",
       "  <thead>\n",
       "    <tr style=\"text-align: right;\">\n",
       "      <th></th>\n",
       "      <th>coingecko_numerical_id</th>\n",
       "      <th>date</th>\n",
       "      <th>value</th>\n",
       "    </tr>\n",
       "  </thead>\n",
       "  <tbody>\n",
       "    <tr>\n",
       "      <th>12791</th>\n",
       "      <td>18292</td>\n",
       "      <td>2021-09-11 00:00</td>\n",
       "      <td>3.860848e-17</td>\n",
       "    </tr>\n",
       "    <tr>\n",
       "      <th>12792</th>\n",
       "      <td>18292</td>\n",
       "      <td>2021-09-12 00:00</td>\n",
       "      <td>3.860848e-17</td>\n",
       "    </tr>\n",
       "    <tr>\n",
       "      <th>12793</th>\n",
       "      <td>18292</td>\n",
       "      <td>2021-09-13 00:00</td>\n",
       "      <td>4.112763e-17</td>\n",
       "    </tr>\n",
       "    <tr>\n",
       "      <th>12794</th>\n",
       "      <td>18292</td>\n",
       "      <td>2021-09-14 00:00</td>\n",
       "      <td>3.669663e-17</td>\n",
       "    </tr>\n",
       "    <tr>\n",
       "      <th>12795</th>\n",
       "      <td>18292</td>\n",
       "      <td>2021-09-15 00:00</td>\n",
       "      <td>4.201025e+01</td>\n",
       "    </tr>\n",
       "    <tr>\n",
       "      <th>...</th>\n",
       "      <td>...</td>\n",
       "      <td>...</td>\n",
       "      <td>...</td>\n",
       "    </tr>\n",
       "    <tr>\n",
       "      <th>13073</th>\n",
       "      <td>18292</td>\n",
       "      <td>2022-06-20 00:00</td>\n",
       "      <td>1.042701e+01</td>\n",
       "    </tr>\n",
       "    <tr>\n",
       "      <th>13074</th>\n",
       "      <td>18292</td>\n",
       "      <td>2022-06-21 00:00</td>\n",
       "      <td>1.038043e+01</td>\n",
       "    </tr>\n",
       "    <tr>\n",
       "      <th>13075</th>\n",
       "      <td>18292</td>\n",
       "      <td>2022-06-22 00:00</td>\n",
       "      <td>1.084817e+01</td>\n",
       "    </tr>\n",
       "    <tr>\n",
       "      <th>13076</th>\n",
       "      <td>18292</td>\n",
       "      <td>2022-06-23 00:00</td>\n",
       "      <td>9.928408e+00</td>\n",
       "    </tr>\n",
       "    <tr>\n",
       "      <th>13077</th>\n",
       "      <td>18292</td>\n",
       "      <td>2022-06-23 13:21</td>\n",
       "      <td>9.957937e+00</td>\n",
       "    </tr>\n",
       "  </tbody>\n",
       "</table>\n",
       "<p>287 rows × 3 columns</p>\n",
       "</div>"
      ],
      "text/plain": [
       "       coingecko_numerical_id              date         value\n",
       "12791                   18292  2021-09-11 00:00  3.860848e-17\n",
       "12792                   18292  2021-09-12 00:00  3.860848e-17\n",
       "12793                   18292  2021-09-13 00:00  4.112763e-17\n",
       "12794                   18292  2021-09-14 00:00  3.669663e-17\n",
       "12795                   18292  2021-09-15 00:00  4.201025e+01\n",
       "...                       ...               ...           ...\n",
       "13073                   18292  2022-06-20 00:00  1.042701e+01\n",
       "13074                   18292  2022-06-21 00:00  1.038043e+01\n",
       "13075                   18292  2022-06-22 00:00  1.084817e+01\n",
       "13076                   18292  2022-06-23 00:00  9.928408e+00\n",
       "13077                   18292  2022-06-23 13:21  9.957937e+00\n",
       "\n",
       "[287 rows x 3 columns]"
      ]
     },
     "execution_count": 138,
     "metadata": {},
     "output_type": "execute_result"
    }
   ],
   "source": [
    "token_charts = pd.read_csv(values_df_path, index_col=0).query('coingecko_numerical_id == @coingecko_numerical_id')\n",
    "token_charts"
   ]
  },
  {
   "cell_type": "code",
   "execution_count": 139,
   "id": "2b5f8264",
   "metadata": {},
   "outputs": [],
   "source": [
    "    def str_schedule_unit_to_arr(schedule):\n",
    "        time = re.findall(\"[a-z]+\", schedule)[0]\n",
    "        quantity = re.findall(\"\\d+\", schedule)[0]\n",
    "        return [quantity, time]"
   ]
  },
  {
   "cell_type": "code",
   "execution_count": 140,
   "id": "8acffba6",
   "metadata": {},
   "outputs": [],
   "source": [
    "def get_tge_date(path_to_values, coingecko_id):\n",
    "    print('Tge date processing...')\n",
    "    try:\n",
    "        id = int(coingecko_id)\n",
    "        dateparse = lambda x: datetime.datetime.strptime(x, '%Y-%m-%d %H:%M')\n",
    "        df_values = pd.read_csv(path_to_values, index_col=0,\n",
    "                                parse_dates=['date'],\n",
    "                                date_parser=dateparse)\n",
    "        df_values_for_coin = df_values.query('coingecko_numerical_id == @id')\n",
    "        if df_values_for_coin.empty:\n",
    "            return 'no-date'\n",
    "        else:\n",
    "            return df_values_for_coin.date.min()\n",
    "    except BaseException:\n",
    "        return 'date'"
   ]
  },
  {
   "cell_type": "code",
   "execution_count": 141,
   "id": "c281b864",
   "metadata": {},
   "outputs": [
    {
     "name": "stdout",
     "output_type": "stream",
     "text": [
      "Tge date processing...\n"
     ]
    },
    {
     "data": {
      "text/plain": [
       "Timestamp('2021-09-11 00:00:00')"
      ]
     },
     "execution_count": 141,
     "metadata": {},
     "output_type": "execute_result"
    }
   ],
   "source": [
    "date = get_tge_date(path_to_values, 18292)\n",
    "date"
   ]
  },
  {
   "cell_type": "code",
   "execution_count": 142,
   "id": "d00fa0c2",
   "metadata": {},
   "outputs": [],
   "source": [
    "date = date + pd.Timedelta(1, unit = 'd')\n"
   ]
  },
  {
   "cell_type": "code",
   "execution_count": 143,
   "id": "be20b533",
   "metadata": {},
   "outputs": [
    {
     "ename": "NameError",
     "evalue": "name 'start_date' is not defined",
     "output_type": "error",
     "traceback": [
      "\u001b[0;31m---------------------------------------------------------------------------\u001b[0m",
      "\u001b[0;31mNameError\u001b[0m                                 Traceback (most recent call last)",
      "\u001b[0;32m/var/folders/kr/9pvbgx552f34xt_90sw27f2h0000gn/T/ipykernel_19636/2463187009.py\u001b[0m in \u001b[0;36m<module>\u001b[0;34m\u001b[0m\n\u001b[0;32m----> 1\u001b[0;31m \u001b[0mnew_date\u001b[0m \u001b[0;34m=\u001b[0m \u001b[0mstart_date\u001b[0m \u001b[0;34m-\u001b[0m \u001b[0mpd\u001b[0m\u001b[0;34m.\u001b[0m\u001b[0mTimedelta\u001b[0m\u001b[0;34m(\u001b[0m\u001b[0mdayDistance\u001b[0m\u001b[0;34m,\u001b[0m \u001b[0munit\u001b[0m\u001b[0;34m=\u001b[0m\u001b[0;34m\"d\"\u001b[0m\u001b[0;34m)\u001b[0m\u001b[0;34m\u001b[0m\u001b[0;34m\u001b[0m\u001b[0m\n\u001b[0m",
      "\u001b[0;31mNameError\u001b[0m: name 'start_date' is not defined"
     ]
    }
   ],
   "source": [
    "new_date = start_date - pd.Timedelta(dayDistance, unit=\"d\")"
   ]
  },
  {
   "cell_type": "code",
   "execution_count": 144,
   "id": "cc1b1cff",
   "metadata": {},
   "outputs": [],
   "source": [
    "schedule_table = sch.schedule\n",
    "schedule = \"Public:25% at TGE, then 25% at month 2, 4, and 6\""
   ]
  },
  {
   "cell_type": "code",
   "execution_count": 145,
   "id": "73459224",
   "metadata": {},
   "outputs": [
    {
     "data": {
      "text/plain": [
       "500.0"
      ]
     },
     "execution_count": 145,
     "metadata": {},
     "output_type": "execute_result"
    }
   ],
   "source": [
    "personal_cap = float(token_common_df.token_personal_cap.values[0])\n",
    "personal_cap"
   ]
  },
  {
   "cell_type": "code",
   "execution_count": 146,
   "id": "c0ebcf89",
   "metadata": {},
   "outputs": [
    {
     "data": {
      "text/plain": [
       "[['0', 0.25], ['2m', 0.25], ['2m', 0.25], ['2m', 0.25]]"
      ]
     },
     "execution_count": 146,
     "metadata": {},
     "output_type": "execute_result"
    }
   ],
   "source": [
    "table = schedule_table[schedule]\n",
    "table"
   ]
  },
  {
   "cell_type": "code",
   "execution_count": 147,
   "id": "15e317b3",
   "metadata": {},
   "outputs": [
    {
     "name": "stdout",
     "output_type": "stream",
     "text": [
      "Tge date processing...\n"
     ]
    },
    {
     "data": {
      "text/plain": [
       "[[Timestamp('2021-09-11 00:00:00'), 125.0],\n",
       " [Timestamp('2021-11-10 20:58:12'), 125.0],\n",
       " [Timestamp('2022-01-10 17:56:24'), 125.0],\n",
       " [Timestamp('2022-03-12 14:54:36'), 125.0]]"
      ]
     },
     "execution_count": 147,
     "metadata": {},
     "output_type": "execute_result"
    }
   ],
   "source": [
    "result = []\n",
    "tge_date = get_tge_date(path_to_values, 18292)\n",
    "for i in range(len(table)):\n",
    "    if table[i][0] == \"0\":\n",
    "        result.append([tge_date, personal_cap * float(table[i][1])])\n",
    "    else:\n",
    "        if current_date > date.now() + np.timedelta64(48, 'h'):\n",
    "            break\n",
    "        else:\n",
    "            schedule = str_schedule_unit_to_arr(table[i][0])\n",
    "        previous_date = result[i - 1][0]\n",
    "        current_date = previous_date + np.timedelta64(int(schedule[0]), 'M')\n",
    "        result.append([current_date, personal_cap * float(table[i][1])])\n",
    "        \n",
    "result"
   ]
  },
  {
   "cell_type": "code",
   "execution_count": 148,
   "id": "df014cdc",
   "metadata": {},
   "outputs": [],
   "source": [
    "def get_median_price_at_date(hours, path_to_values, coingecko_id, date64):\n",
    "    dateparse = lambda x: datetime.datetime.strptime(x, '%Y-%m-%d %H:%M')\n",
    "    df_values = pd.read_csv(path_to_values, index_col=0,\n",
    "                            parse_dates=['date'],\n",
    "                            date_parser=dateparse)\n",
    "    df_values = df_values.query(\"coingecko_numerical_id == @coingecko_id\")\n",
    "    border_right = date64 + np.timedelta64(hours, 'h')\n",
    "    df_values = df_values.query(\"date < @border_right and date > @date64\")\n",
    "    return df_values.value.median()"
   ]
  },
  {
   "cell_type": "code",
   "execution_count": 149,
   "id": "62c89216",
   "metadata": {},
   "outputs": [
    {
     "name": "stdout",
     "output_type": "stream",
     "text": [
      "2021-09-11 00:00:00\n",
      "3.860847855497112e-17\n",
      "2021-11-10 20:58:12\n",
      "175.122737368117\n",
      "2022-01-10 17:56:24\n",
      "97.66911339088853\n",
      "2022-03-12 14:54:36\n",
      "23.40308758372351\n"
     ]
    },
    {
     "data": {
      "text/plain": [
       "[[Timestamp('2021-09-11 00:00:00'), 4.826059819371389e-15],\n",
       " [Timestamp('2021-11-10 20:58:12'), 21890.342171014625],\n",
       " [Timestamp('2022-01-10 17:56:24'), 12208.639173861066],\n",
       " [Timestamp('2022-03-12 14:54:36'), 2925.385947965439]]"
      ]
     },
     "execution_count": 149,
     "metadata": {},
     "output_type": "execute_result"
    }
   ],
   "source": [
    "eco = []\n",
    "\n",
    "for stack in result:\n",
    "    print(stack[0])\n",
    "    median_price = get_median_price_at_date(48, path_to_values, 18292, stack[0])\n",
    "    print(median_price)\n",
    "    eco.append([stack[0], stack[1] * median_price])\n",
    "eco"
   ]
  },
  {
   "cell_type": "code",
   "execution_count": 150,
   "id": "5898a57f",
   "metadata": {},
   "outputs": [
    {
     "data": {
      "text/html": [
       "<div>\n",
       "<style scoped>\n",
       "    .dataframe tbody tr th:only-of-type {\n",
       "        vertical-align: middle;\n",
       "    }\n",
       "\n",
       "    .dataframe tbody tr th {\n",
       "        vertical-align: top;\n",
       "    }\n",
       "\n",
       "    .dataframe thead th {\n",
       "        text-align: right;\n",
       "    }\n",
       "</style>\n",
       "<table border=\"1\" class=\"dataframe\">\n",
       "  <thead>\n",
       "    <tr style=\"text-align: right;\">\n",
       "      <th></th>\n",
       "      <th>coingecko_numerical_id</th>\n",
       "      <th>date</th>\n",
       "      <th>value</th>\n",
       "    </tr>\n",
       "  </thead>\n",
       "  <tbody>\n",
       "    <tr>\n",
       "      <th>12791</th>\n",
       "      <td>18292</td>\n",
       "      <td>2021-09-11 00:00</td>\n",
       "      <td>3.860848e-17</td>\n",
       "    </tr>\n",
       "    <tr>\n",
       "      <th>12792</th>\n",
       "      <td>18292</td>\n",
       "      <td>2021-09-12 00:00</td>\n",
       "      <td>3.860848e-17</td>\n",
       "    </tr>\n",
       "    <tr>\n",
       "      <th>12793</th>\n",
       "      <td>18292</td>\n",
       "      <td>2021-09-13 00:00</td>\n",
       "      <td>4.112763e-17</td>\n",
       "    </tr>\n",
       "    <tr>\n",
       "      <th>12794</th>\n",
       "      <td>18292</td>\n",
       "      <td>2021-09-14 00:00</td>\n",
       "      <td>3.669663e-17</td>\n",
       "    </tr>\n",
       "    <tr>\n",
       "      <th>12795</th>\n",
       "      <td>18292</td>\n",
       "      <td>2021-09-15 00:00</td>\n",
       "      <td>4.201025e+01</td>\n",
       "    </tr>\n",
       "    <tr>\n",
       "      <th>...</th>\n",
       "      <td>...</td>\n",
       "      <td>...</td>\n",
       "      <td>...</td>\n",
       "    </tr>\n",
       "    <tr>\n",
       "      <th>13073</th>\n",
       "      <td>18292</td>\n",
       "      <td>2022-06-20 00:00</td>\n",
       "      <td>1.042701e+01</td>\n",
       "    </tr>\n",
       "    <tr>\n",
       "      <th>13074</th>\n",
       "      <td>18292</td>\n",
       "      <td>2022-06-21 00:00</td>\n",
       "      <td>1.038043e+01</td>\n",
       "    </tr>\n",
       "    <tr>\n",
       "      <th>13075</th>\n",
       "      <td>18292</td>\n",
       "      <td>2022-06-22 00:00</td>\n",
       "      <td>1.084817e+01</td>\n",
       "    </tr>\n",
       "    <tr>\n",
       "      <th>13076</th>\n",
       "      <td>18292</td>\n",
       "      <td>2022-06-23 00:00</td>\n",
       "      <td>9.928408e+00</td>\n",
       "    </tr>\n",
       "    <tr>\n",
       "      <th>13077</th>\n",
       "      <td>18292</td>\n",
       "      <td>2022-06-23 13:21</td>\n",
       "      <td>9.957937e+00</td>\n",
       "    </tr>\n",
       "  </tbody>\n",
       "</table>\n",
       "<p>287 rows × 3 columns</p>\n",
       "</div>"
      ],
      "text/plain": [
       "       coingecko_numerical_id              date         value\n",
       "12791                   18292  2021-09-11 00:00  3.860848e-17\n",
       "12792                   18292  2021-09-12 00:00  3.860848e-17\n",
       "12793                   18292  2021-09-13 00:00  4.112763e-17\n",
       "12794                   18292  2021-09-14 00:00  3.669663e-17\n",
       "12795                   18292  2021-09-15 00:00  4.201025e+01\n",
       "...                       ...               ...           ...\n",
       "13073                   18292  2022-06-20 00:00  1.042701e+01\n",
       "13074                   18292  2022-06-21 00:00  1.038043e+01\n",
       "13075                   18292  2022-06-22 00:00  1.084817e+01\n",
       "13076                   18292  2022-06-23 00:00  9.928408e+00\n",
       "13077                   18292  2022-06-23 13:21  9.957937e+00\n",
       "\n",
       "[287 rows x 3 columns]"
      ]
     },
     "execution_count": 150,
     "metadata": {},
     "output_type": "execute_result"
    }
   ],
   "source": [
    "df_values = pd.read_csv(path_to_values, index_col=0).query('coingecko_numerical_id == 18292')\n",
    "df_values"
   ]
  },
  {
   "cell_type": "code",
   "execution_count": 151,
   "id": "e5a28c43",
   "metadata": {},
   "outputs": [
    {
     "data": {
      "text/html": [
       "<div>\n",
       "<style scoped>\n",
       "    .dataframe tbody tr th:only-of-type {\n",
       "        vertical-align: middle;\n",
       "    }\n",
       "\n",
       "    .dataframe tbody tr th {\n",
       "        vertical-align: top;\n",
       "    }\n",
       "\n",
       "    .dataframe thead th {\n",
       "        text-align: right;\n",
       "    }\n",
       "</style>\n",
       "<table border=\"1\" class=\"dataframe\">\n",
       "  <thead>\n",
       "    <tr style=\"text-align: right;\">\n",
       "      <th></th>\n",
       "      <th>coingecko_numerical_id</th>\n",
       "      <th>date</th>\n",
       "      <th>value</th>\n",
       "    </tr>\n",
       "  </thead>\n",
       "  <tbody>\n",
       "    <tr>\n",
       "      <th>12978</th>\n",
       "      <td>18292</td>\n",
       "      <td>2022-03-17 00:00</td>\n",
       "      <td>27.184496</td>\n",
       "    </tr>\n",
       "    <tr>\n",
       "      <th>12979</th>\n",
       "      <td>18292</td>\n",
       "      <td>2022-03-18 00:00</td>\n",
       "      <td>26.369722</td>\n",
       "    </tr>\n",
       "    <tr>\n",
       "      <th>12980</th>\n",
       "      <td>18292</td>\n",
       "      <td>2022-03-19 00:00</td>\n",
       "      <td>26.105279</td>\n",
       "    </tr>\n",
       "    <tr>\n",
       "      <th>12981</th>\n",
       "      <td>18292</td>\n",
       "      <td>2022-03-20 00:00</td>\n",
       "      <td>31.324360</td>\n",
       "    </tr>\n",
       "    <tr>\n",
       "      <th>12982</th>\n",
       "      <td>18292</td>\n",
       "      <td>2022-03-21 00:00</td>\n",
       "      <td>30.894085</td>\n",
       "    </tr>\n",
       "    <tr>\n",
       "      <th>...</th>\n",
       "      <td>...</td>\n",
       "      <td>...</td>\n",
       "      <td>...</td>\n",
       "    </tr>\n",
       "    <tr>\n",
       "      <th>13073</th>\n",
       "      <td>18292</td>\n",
       "      <td>2022-06-20 00:00</td>\n",
       "      <td>10.427015</td>\n",
       "    </tr>\n",
       "    <tr>\n",
       "      <th>13074</th>\n",
       "      <td>18292</td>\n",
       "      <td>2022-06-21 00:00</td>\n",
       "      <td>10.380431</td>\n",
       "    </tr>\n",
       "    <tr>\n",
       "      <th>13075</th>\n",
       "      <td>18292</td>\n",
       "      <td>2022-06-22 00:00</td>\n",
       "      <td>10.848172</td>\n",
       "    </tr>\n",
       "    <tr>\n",
       "      <th>13076</th>\n",
       "      <td>18292</td>\n",
       "      <td>2022-06-23 00:00</td>\n",
       "      <td>9.928408</td>\n",
       "    </tr>\n",
       "    <tr>\n",
       "      <th>13077</th>\n",
       "      <td>18292</td>\n",
       "      <td>2022-06-23 13:21</td>\n",
       "      <td>9.957937</td>\n",
       "    </tr>\n",
       "  </tbody>\n",
       "</table>\n",
       "<p>100 rows × 3 columns</p>\n",
       "</div>"
      ],
      "text/plain": [
       "       coingecko_numerical_id              date      value\n",
       "12978                   18292  2022-03-17 00:00  27.184496\n",
       "12979                   18292  2022-03-18 00:00  26.369722\n",
       "12980                   18292  2022-03-19 00:00  26.105279\n",
       "12981                   18292  2022-03-20 00:00  31.324360\n",
       "12982                   18292  2022-03-21 00:00  30.894085\n",
       "...                       ...               ...        ...\n",
       "13073                   18292  2022-06-20 00:00  10.427015\n",
       "13074                   18292  2022-06-21 00:00  10.380431\n",
       "13075                   18292  2022-06-22 00:00  10.848172\n",
       "13076                   18292  2022-06-23 00:00   9.928408\n",
       "13077                   18292  2022-06-23 13:21   9.957937\n",
       "\n",
       "[100 rows x 3 columns]"
      ]
     },
     "execution_count": 151,
     "metadata": {},
     "output_type": "execute_result"
    }
   ],
   "source": [
    "df_values.tail(100)"
   ]
  },
  {
   "cell_type": "code",
   "execution_count": 152,
   "id": "83e3ce33",
   "metadata": {},
   "outputs": [
    {
     "data": {
      "text/plain": [
       "str"
      ]
     },
     "execution_count": 152,
     "metadata": {},
     "output_type": "execute_result"
    }
   ],
   "source": [
    "type(strftime(\"%Y-%m-%d %H:%M:%S\", gmtime()))"
   ]
  },
  {
   "cell_type": "code",
   "execution_count": 153,
   "id": "bdeb44a9",
   "metadata": {},
   "outputs": [
    {
     "data": {
      "text/plain": [
       "Timestamp('2022-06-23 17:29:52.395277')"
      ]
     },
     "execution_count": 153,
     "metadata": {},
     "output_type": "execute_result"
    }
   ],
   "source": [
    "date.now()"
   ]
  },
  {
   "cell_type": "code",
   "execution_count": 154,
   "id": "fb186f54",
   "metadata": {},
   "outputs": [
    {
     "ename": "ValueError",
     "evalue": "time data '%Y-%m-%d %H:%M' does not match format '1655994592.477597'",
     "output_type": "error",
     "traceback": [
      "\u001b[0;31m---------------------------------------------------------------------------\u001b[0m",
      "\u001b[0;31mValueError\u001b[0m                                Traceback (most recent call last)",
      "\u001b[0;32m/var/folders/kr/9pvbgx552f34xt_90sw27f2h0000gn/T/ipykernel_19636/822497088.py\u001b[0m in \u001b[0;36m<module>\u001b[0;34m\u001b[0m\n\u001b[1;32m      1\u001b[0m \u001b[0munix_now\u001b[0m \u001b[0;34m=\u001b[0m \u001b[0mdatetime\u001b[0m\u001b[0;34m.\u001b[0m\u001b[0mdatetime\u001b[0m\u001b[0;34m.\u001b[0m\u001b[0mnow\u001b[0m\u001b[0;34m(\u001b[0m\u001b[0;34m)\u001b[0m\u001b[0;34m.\u001b[0m\u001b[0mtimestamp\u001b[0m\u001b[0;34m(\u001b[0m\u001b[0;34m)\u001b[0m\u001b[0;34m\u001b[0m\u001b[0;34m\u001b[0m\u001b[0m\n\u001b[0;32m----> 2\u001b[0;31m \u001b[0mnow\u001b[0m \u001b[0;34m=\u001b[0m \u001b[0mdatetime\u001b[0m\u001b[0;34m.\u001b[0m\u001b[0mdatetime\u001b[0m\u001b[0;34m.\u001b[0m\u001b[0mstrptime\u001b[0m\u001b[0;34m(\u001b[0m\u001b[0;34m'%Y-%m-%d %H:%M'\u001b[0m\u001b[0;34m,\u001b[0m \u001b[0mstr\u001b[0m\u001b[0;34m(\u001b[0m\u001b[0munix_now\u001b[0m\u001b[0;34m)\u001b[0m\u001b[0;34m)\u001b[0m\u001b[0;34m\u001b[0m\u001b[0;34m\u001b[0m\u001b[0m\n\u001b[0m",
      "\u001b[0;32m~/opt/anaconda3/lib/python3.9/_strptime.py\u001b[0m in \u001b[0;36m_strptime_datetime\u001b[0;34m(cls, data_string, format)\u001b[0m\n\u001b[1;32m    566\u001b[0m     \"\"\"Return a class cls instance based on the input string and the\n\u001b[1;32m    567\u001b[0m     format string.\"\"\"\n\u001b[0;32m--> 568\u001b[0;31m     \u001b[0mtt\u001b[0m\u001b[0;34m,\u001b[0m \u001b[0mfraction\u001b[0m\u001b[0;34m,\u001b[0m \u001b[0mgmtoff_fraction\u001b[0m \u001b[0;34m=\u001b[0m \u001b[0m_strptime\u001b[0m\u001b[0;34m(\u001b[0m\u001b[0mdata_string\u001b[0m\u001b[0;34m,\u001b[0m \u001b[0mformat\u001b[0m\u001b[0;34m)\u001b[0m\u001b[0;34m\u001b[0m\u001b[0;34m\u001b[0m\u001b[0m\n\u001b[0m\u001b[1;32m    569\u001b[0m     \u001b[0mtzname\u001b[0m\u001b[0;34m,\u001b[0m \u001b[0mgmtoff\u001b[0m \u001b[0;34m=\u001b[0m \u001b[0mtt\u001b[0m\u001b[0;34m[\u001b[0m\u001b[0;34m-\u001b[0m\u001b[0;36m2\u001b[0m\u001b[0;34m:\u001b[0m\u001b[0;34m]\u001b[0m\u001b[0;34m\u001b[0m\u001b[0;34m\u001b[0m\u001b[0m\n\u001b[1;32m    570\u001b[0m     \u001b[0margs\u001b[0m \u001b[0;34m=\u001b[0m \u001b[0mtt\u001b[0m\u001b[0;34m[\u001b[0m\u001b[0;34m:\u001b[0m\u001b[0;36m6\u001b[0m\u001b[0;34m]\u001b[0m \u001b[0;34m+\u001b[0m \u001b[0;34m(\u001b[0m\u001b[0mfraction\u001b[0m\u001b[0;34m,\u001b[0m\u001b[0;34m)\u001b[0m\u001b[0;34m\u001b[0m\u001b[0;34m\u001b[0m\u001b[0m\n",
      "\u001b[0;32m~/opt/anaconda3/lib/python3.9/_strptime.py\u001b[0m in \u001b[0;36m_strptime\u001b[0;34m(data_string, format)\u001b[0m\n\u001b[1;32m    347\u001b[0m     \u001b[0mfound\u001b[0m \u001b[0;34m=\u001b[0m \u001b[0mformat_regex\u001b[0m\u001b[0;34m.\u001b[0m\u001b[0mmatch\u001b[0m\u001b[0;34m(\u001b[0m\u001b[0mdata_string\u001b[0m\u001b[0;34m)\u001b[0m\u001b[0;34m\u001b[0m\u001b[0;34m\u001b[0m\u001b[0m\n\u001b[1;32m    348\u001b[0m     \u001b[0;32mif\u001b[0m \u001b[0;32mnot\u001b[0m \u001b[0mfound\u001b[0m\u001b[0;34m:\u001b[0m\u001b[0;34m\u001b[0m\u001b[0;34m\u001b[0m\u001b[0m\n\u001b[0;32m--> 349\u001b[0;31m         raise ValueError(\"time data %r does not match format %r\" %\n\u001b[0m\u001b[1;32m    350\u001b[0m                          (data_string, format))\n\u001b[1;32m    351\u001b[0m     \u001b[0;32mif\u001b[0m \u001b[0mlen\u001b[0m\u001b[0;34m(\u001b[0m\u001b[0mdata_string\u001b[0m\u001b[0;34m)\u001b[0m \u001b[0;34m!=\u001b[0m \u001b[0mfound\u001b[0m\u001b[0;34m.\u001b[0m\u001b[0mend\u001b[0m\u001b[0;34m(\u001b[0m\u001b[0;34m)\u001b[0m\u001b[0;34m:\u001b[0m\u001b[0;34m\u001b[0m\u001b[0;34m\u001b[0m\u001b[0m\n",
      "\u001b[0;31mValueError\u001b[0m: time data '%Y-%m-%d %H:%M' does not match format '1655994592.477597'"
     ]
    }
   ],
   "source": [
    "unix_now = datetime.datetime.now().timestamp()\n",
    "now = datetime.datetime.strptime('%Y-%m-%d %H:%M', str(unix_now))"
   ]
  },
  {
   "cell_type": "code",
   "execution_count": 164,
   "id": "1d9213c3",
   "metadata": {},
   "outputs": [
    {
     "data": {
      "text/plain": [
       "Timestamp('2022-06-23 17:35:11.912133')"
      ]
     },
     "execution_count": 164,
     "metadata": {},
     "output_type": "execute_result"
    }
   ],
   "source": [
    "pd.Timestamp(datetime.datetime.now())"
   ]
  },
  {
   "cell_type": "code",
   "execution_count": 162,
   "id": "b6acfc2c",
   "metadata": {},
   "outputs": [
    {
     "data": {
      "text/plain": [
       "pandas._libs.tslibs.timestamps.Timestamp"
      ]
     },
     "execution_count": 162,
     "metadata": {},
     "output_type": "execute_result"
    }
   ],
   "source": [
    "type(date.now())"
   ]
  },
  {
   "cell_type": "code",
   "execution_count": 165,
   "id": "111d623e",
   "metadata": {},
   "outputs": [
    {
     "data": {
      "text/html": [
       "<div>\n",
       "<style scoped>\n",
       "    .dataframe tbody tr th:only-of-type {\n",
       "        vertical-align: middle;\n",
       "    }\n",
       "\n",
       "    .dataframe tbody tr th {\n",
       "        vertical-align: top;\n",
       "    }\n",
       "\n",
       "    .dataframe thead th {\n",
       "        text-align: right;\n",
       "    }\n",
       "</style>\n",
       "<table border=\"1\" class=\"dataframe\">\n",
       "  <thead>\n",
       "    <tr style=\"text-align: right;\">\n",
       "      <th></th>\n",
       "      <th>token_numerical_id</th>\n",
       "      <th>left_date_sale</th>\n",
       "      <th>right_date_sale</th>\n",
       "      <th>tokens_for_sale</th>\n",
       "      <th>median_price</th>\n",
       "    </tr>\n",
       "  </thead>\n",
       "  <tbody>\n",
       "  </tbody>\n",
       "</table>\n",
       "</div>"
      ],
      "text/plain": [
       "Empty DataFrame\n",
       "Columns: [token_numerical_id, left_date_sale, right_date_sale, tokens_for_sale, median_price]\n",
       "Index: []"
      ]
     },
     "execution_count": 165,
     "metadata": {},
     "output_type": "execute_result"
    }
   ],
   "source": [
    "result_df = pd.DataFrame(columns=['token_numerical_id', 'left_date_sale', 'right_date_sale', 'tokens_for_sale', 'median_price'])\n",
    "result_df"
   ]
  },
  {
   "cell_type": "code",
   "execution_count": 169,
   "id": "32b4f7c9",
   "metadata": {},
   "outputs": [
    {
     "name": "stdout",
     "output_type": "stream",
     "text": [
      "Tge date processing...\n"
     ]
    },
    {
     "data": {
      "text/html": [
       "<div>\n",
       "<style scoped>\n",
       "    .dataframe tbody tr th:only-of-type {\n",
       "        vertical-align: middle;\n",
       "    }\n",
       "\n",
       "    .dataframe tbody tr th {\n",
       "        vertical-align: top;\n",
       "    }\n",
       "\n",
       "    .dataframe thead th {\n",
       "        text-align: right;\n",
       "    }\n",
       "</style>\n",
       "<table border=\"1\" class=\"dataframe\">\n",
       "  <thead>\n",
       "    <tr style=\"text-align: right;\">\n",
       "      <th></th>\n",
       "      <th>token_numerical_id</th>\n",
       "      <th>sale_date</th>\n",
       "      <th>tokens_for_sale</th>\n",
       "      <th>median_price</th>\n",
       "      <th>0</th>\n",
       "      <th>1</th>\n",
       "      <th>2</th>\n",
       "      <th>3</th>\n",
       "    </tr>\n",
       "  </thead>\n",
       "  <tbody>\n",
       "    <tr>\n",
       "      <th>0</th>\n",
       "      <td>NaN</td>\n",
       "      <td>NaN</td>\n",
       "      <td>NaN</td>\n",
       "      <td>NaN</td>\n",
       "      <td>18292.0</td>\n",
       "      <td>2021-09-11 00:00:00</td>\n",
       "      <td>125.0</td>\n",
       "      <td>3.860848e-17</td>\n",
       "    </tr>\n",
       "    <tr>\n",
       "      <th>1</th>\n",
       "      <td>NaN</td>\n",
       "      <td>NaN</td>\n",
       "      <td>NaN</td>\n",
       "      <td>NaN</td>\n",
       "      <td>18292.0</td>\n",
       "      <td>2021-11-10 20:58:12</td>\n",
       "      <td>125.0</td>\n",
       "      <td>1.751227e+02</td>\n",
       "    </tr>\n",
       "    <tr>\n",
       "      <th>2</th>\n",
       "      <td>NaN</td>\n",
       "      <td>NaN</td>\n",
       "      <td>NaN</td>\n",
       "      <td>NaN</td>\n",
       "      <td>18292.0</td>\n",
       "      <td>2022-01-10 17:56:24</td>\n",
       "      <td>125.0</td>\n",
       "      <td>9.766911e+01</td>\n",
       "    </tr>\n",
       "    <tr>\n",
       "      <th>3</th>\n",
       "      <td>NaN</td>\n",
       "      <td>NaN</td>\n",
       "      <td>NaN</td>\n",
       "      <td>NaN</td>\n",
       "      <td>18292.0</td>\n",
       "      <td>2022-03-12 14:54:36</td>\n",
       "      <td>125.0</td>\n",
       "      <td>2.340309e+01</td>\n",
       "    </tr>\n",
       "  </tbody>\n",
       "</table>\n",
       "</div>"
      ],
      "text/plain": [
       "   token_numerical_id  sale_date  tokens_for_sale  median_price        0  \\\n",
       "0                 NaN        NaN              NaN           NaN  18292.0   \n",
       "1                 NaN        NaN              NaN           NaN  18292.0   \n",
       "2                 NaN        NaN              NaN           NaN  18292.0   \n",
       "3                 NaN        NaN              NaN           NaN  18292.0   \n",
       "\n",
       "                    1      2             3  \n",
       "0 2021-09-11 00:00:00  125.0  3.860848e-17  \n",
       "1 2021-11-10 20:58:12  125.0  1.751227e+02  \n",
       "2 2022-01-10 17:56:24  125.0  9.766911e+01  \n",
       "3 2022-03-12 14:54:36  125.0  2.340309e+01  "
      ]
     },
     "execution_count": 169,
     "metadata": {},
     "output_type": "execute_result"
    }
   ],
   "source": [
    "def get_token_eco_df(slug, coingecko_numerical_id):\n",
    "    slug = \"gamefi\"\n",
    "    df = pd.read_csv(base_df_path, index_col=0)\n",
    "    token_common_df = df.query(\"slug == @slug\")\n",
    "\n",
    "    coingecko_numerical_id = 18292\n",
    "    token_charts = pd.read_csv(values_df_path, index_col=0).query('coingecko_numerical_id == @coingecko_numerical_id')\n",
    "    schedule_table = sch.schedule\n",
    "    schedule = \"Public:25% at TGE, then 25% at month 2, 4, and 6\"\n",
    "    personal_cap = float(token_common_df.token_personal_cap.values[0])\n",
    "    table = schedule_table[schedule]\n",
    "\n",
    "    result_df = pd.DataFrame(columns=['token_numerical_id', 'sale_date',\n",
    "                                      'tokens_for_sale', 'median_price'])\n",
    "    result = []\n",
    "    tge_date = get_tge_date(path_to_values, coingecko_numerical_id)\n",
    "    for i in range(len(table)):\n",
    "        if table[i][0] == \"0\":\n",
    "            result.append([tge_date, personal_cap * float(table[i][1])])\n",
    "        else:\n",
    "            schedule = str_schedule_unit_to_arr(table[i][0])\n",
    "            previous_date = result[i - 1][0]\n",
    "            current_date = previous_date + np.timedelta64(int(schedule[0]), 'M')\n",
    "            if current_date > pd.Timestamp(datetime.datetime.now()) + np.timedelta64(48, 'h'):\n",
    "                break\n",
    "            result.append([current_date, personal_cap * float(table[i][1])])\n",
    "\n",
    "    eco = []\n",
    "\n",
    "    for stack in result:\n",
    "        median_price = get_median_price_at_date(48, path_to_values, 18292, stack[0])\n",
    "        eco.append([stack[0], stack[1] * median_price])\n",
    "        series = pd.Series([coingecko_numerical_id,\n",
    "                            stack[0],\n",
    "                            stack[1],\n",
    "                            get_median_price_at_date(48, path_to_values, 18292, stack[0])\n",
    "                            ])\n",
    "        result_df = result_df.append(series, ignore_index=True)\n",
    "    return result_df\n",
    "\n",
    "get_token_eco_df(\"gamefi\",18292)"
   ]
  },
  {
   "cell_type": "code",
   "execution_count": null,
   "id": "fc288012",
   "metadata": {},
   "outputs": [],
   "source": []
  }
 ],
 "metadata": {
  "kernelspec": {
   "display_name": "Python 3 (ipykernel)",
   "language": "python",
   "name": "python3"
  },
  "language_info": {
   "codemirror_mode": {
    "name": "ipython",
    "version": 3
   },
   "file_extension": ".py",
   "mimetype": "text/x-python",
   "name": "python",
   "nbconvert_exporter": "python",
   "pygments_lexer": "ipython3",
   "version": "3.9.7"
  },
  "varInspector": {
   "cols": {
    "lenName": 16,
    "lenType": 16,
    "lenVar": 40
   },
   "kernels_config": {
    "python": {
     "delete_cmd_postfix": "",
     "delete_cmd_prefix": "del ",
     "library": "var_list.py",
     "varRefreshCmd": "print(var_dic_list())"
    },
    "r": {
     "delete_cmd_postfix": ") ",
     "delete_cmd_prefix": "rm(",
     "library": "var_list.r",
     "varRefreshCmd": "cat(var_dic_list()) "
    }
   },
   "types_to_exclude": [
    "module",
    "function",
    "builtin_function_or_method",
    "instance",
    "_Feature"
   ],
   "window_display": false
  }
 },
 "nbformat": 4,
 "nbformat_minor": 5
}
